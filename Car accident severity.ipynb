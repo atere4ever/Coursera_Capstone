{
 "cells": [
  {
   "cell_type": "markdown",
   "metadata": {},
   "source": [
    "# Capstone Project - Car Accident Severity\n",
    "This Jupyter notebook will be used to construct the final project for my Data Science Professional Certificate by IBM."
   ]
  },
  {
   "cell_type": "code",
   "execution_count": 1,
   "metadata": {},
   "outputs": [],
   "source": [
    "# import relevant libraries\n",
    "import pandas as pd\n",
    "import numpy as np\n",
    "from numpy import mean\n",
    "from numpy import std\n",
    "\n",
    "# libraries for downloading csv file\n",
    "import csv\n",
    "import requests\n",
    "import itertools\n",
    "\n",
    "# libraries for visualisation\n",
    "import seaborn as sns\n",
    "import matplotlib\n",
    "import matplotlib.pyplot as plt\n",
    "import matplotlib.ticker as ticker\n",
    "from matplotlib.ticker import NullFormatter\n",
    "\n",
    "# libraries from sklearn\n",
    "from sklearn import metrics\n",
    "from sklearn.metrics import jaccard_score\n",
    "from sklearn.metrics import f1_score\n",
    "from sklearn.metrics import precision_score\n",
    "from sklearn.metrics import recall_score\n",
    "from sklearn import preprocessing\n",
    "%matplotlib inline\n",
    "\n",
    "from sklearn.preprocessing import LabelEncoder\n",
    "from sklearn.preprocessing import StandardScaler\n",
    "\n",
    "from sklearn.model_selection import train_test_split\n",
    "from sklearn.model_selection import cross_val_score\n",
    "from sklearn.model_selection import RepeatedStratifiedKFold\n",
    "\n",
    "from sklearn.linear_model import LogisticRegression\n",
    "from sklearn.ensemble import GradientBoostingClassifier\n",
    "from sklearn.ensemble import RandomForestClassifier\n",
    "from sklearn.tree import DecisionTreeClassifier\n",
    "from sklearn.neighbors import KNeighborsClassifier\n",
    "\n",
    "from sklearn.metrics import log_loss\n",
    "from sklearn.metrics import accuracy_score\n",
    "from sklearn.metrics import plot_confusion_matrix\n",
    "from sklearn.metrics import confusion_matrix\n",
    "import itertools\n"
   ]
  },
  {
   "cell_type": "code",
   "execution_count": 2,
   "metadata": {},
   "outputs": [
    {
     "name": "stderr",
     "output_type": "stream",
     "text": [
      "C:\\Users\\atereo01\\Anaconda3\\lib\\site-packages\\IPython\\core\\interactiveshell.py:3071: DtypeWarning: Columns (33) have mixed types.Specify dtype option on import or set low_memory=False.\n",
      "  has_raised = await self.run_ast_nodes(code_ast.body, cell_name,\n"
     ]
    }
   ],
   "source": [
    "# load as pandas dataframe\n",
    "df = pd.read_csv(\"https://s3.us.cloud-object-storage.appdomain.cloud/cf-courses-data/CognitiveClass/DP0701EN/version-2/Data-Collisions.csv\")\n"
   ]
  },
  {
   "cell_type": "markdown",
   "metadata": {},
   "source": [
    "# Exploratory Data Analysis & Data Cleaning"
   ]
  },
  {
   "cell_type": "code",
   "execution_count": 3,
   "metadata": {
    "scrolled": false
   },
   "outputs": [
    {
     "data": {
      "text/html": [
       "<div>\n",
       "<style scoped>\n",
       "    .dataframe tbody tr th:only-of-type {\n",
       "        vertical-align: middle;\n",
       "    }\n",
       "\n",
       "    .dataframe tbody tr th {\n",
       "        vertical-align: top;\n",
       "    }\n",
       "\n",
       "    .dataframe thead th {\n",
       "        text-align: right;\n",
       "    }\n",
       "</style>\n",
       "<table border=\"1\" class=\"dataframe\">\n",
       "  <thead>\n",
       "    <tr style=\"text-align: right;\">\n",
       "      <th></th>\n",
       "      <th>SEVERITYCODE</th>\n",
       "      <th>X</th>\n",
       "      <th>Y</th>\n",
       "      <th>OBJECTID</th>\n",
       "      <th>INCKEY</th>\n",
       "      <th>COLDETKEY</th>\n",
       "      <th>REPORTNO</th>\n",
       "      <th>STATUS</th>\n",
       "      <th>ADDRTYPE</th>\n",
       "      <th>INTKEY</th>\n",
       "      <th>...</th>\n",
       "      <th>ROADCOND</th>\n",
       "      <th>LIGHTCOND</th>\n",
       "      <th>PEDROWNOTGRNT</th>\n",
       "      <th>SDOTCOLNUM</th>\n",
       "      <th>SPEEDING</th>\n",
       "      <th>ST_COLCODE</th>\n",
       "      <th>ST_COLDESC</th>\n",
       "      <th>SEGLANEKEY</th>\n",
       "      <th>CROSSWALKKEY</th>\n",
       "      <th>HITPARKEDCAR</th>\n",
       "    </tr>\n",
       "  </thead>\n",
       "  <tbody>\n",
       "    <tr>\n",
       "      <th>0</th>\n",
       "      <td>2</td>\n",
       "      <td>-122.323148</td>\n",
       "      <td>47.703140</td>\n",
       "      <td>1</td>\n",
       "      <td>1307</td>\n",
       "      <td>1307</td>\n",
       "      <td>3502005</td>\n",
       "      <td>Matched</td>\n",
       "      <td>Intersection</td>\n",
       "      <td>37475.0</td>\n",
       "      <td>...</td>\n",
       "      <td>Wet</td>\n",
       "      <td>Daylight</td>\n",
       "      <td>NaN</td>\n",
       "      <td>NaN</td>\n",
       "      <td>NaN</td>\n",
       "      <td>10</td>\n",
       "      <td>Entering at angle</td>\n",
       "      <td>0</td>\n",
       "      <td>0</td>\n",
       "      <td>N</td>\n",
       "    </tr>\n",
       "    <tr>\n",
       "      <th>1</th>\n",
       "      <td>1</td>\n",
       "      <td>-122.347294</td>\n",
       "      <td>47.647172</td>\n",
       "      <td>2</td>\n",
       "      <td>52200</td>\n",
       "      <td>52200</td>\n",
       "      <td>2607959</td>\n",
       "      <td>Matched</td>\n",
       "      <td>Block</td>\n",
       "      <td>NaN</td>\n",
       "      <td>...</td>\n",
       "      <td>Wet</td>\n",
       "      <td>Dark - Street Lights On</td>\n",
       "      <td>NaN</td>\n",
       "      <td>6354039.0</td>\n",
       "      <td>NaN</td>\n",
       "      <td>11</td>\n",
       "      <td>From same direction - both going straight - bo...</td>\n",
       "      <td>0</td>\n",
       "      <td>0</td>\n",
       "      <td>N</td>\n",
       "    </tr>\n",
       "    <tr>\n",
       "      <th>2</th>\n",
       "      <td>1</td>\n",
       "      <td>-122.334540</td>\n",
       "      <td>47.607871</td>\n",
       "      <td>3</td>\n",
       "      <td>26700</td>\n",
       "      <td>26700</td>\n",
       "      <td>1482393</td>\n",
       "      <td>Matched</td>\n",
       "      <td>Block</td>\n",
       "      <td>NaN</td>\n",
       "      <td>...</td>\n",
       "      <td>Dry</td>\n",
       "      <td>Daylight</td>\n",
       "      <td>NaN</td>\n",
       "      <td>4323031.0</td>\n",
       "      <td>NaN</td>\n",
       "      <td>32</td>\n",
       "      <td>One parked--one moving</td>\n",
       "      <td>0</td>\n",
       "      <td>0</td>\n",
       "      <td>N</td>\n",
       "    </tr>\n",
       "  </tbody>\n",
       "</table>\n",
       "<p>3 rows × 38 columns</p>\n",
       "</div>"
      ],
      "text/plain": [
       "   SEVERITYCODE           X          Y  OBJECTID  INCKEY  COLDETKEY REPORTNO  \\\n",
       "0             2 -122.323148  47.703140         1    1307       1307  3502005   \n",
       "1             1 -122.347294  47.647172         2   52200      52200  2607959   \n",
       "2             1 -122.334540  47.607871         3   26700      26700  1482393   \n",
       "\n",
       "    STATUS      ADDRTYPE   INTKEY  ... ROADCOND                LIGHTCOND  \\\n",
       "0  Matched  Intersection  37475.0  ...      Wet                 Daylight   \n",
       "1  Matched         Block      NaN  ...      Wet  Dark - Street Lights On   \n",
       "2  Matched         Block      NaN  ...      Dry                 Daylight   \n",
       "\n",
       "  PEDROWNOTGRNT  SDOTCOLNUM SPEEDING ST_COLCODE  \\\n",
       "0           NaN         NaN      NaN         10   \n",
       "1           NaN   6354039.0      NaN         11   \n",
       "2           NaN   4323031.0      NaN         32   \n",
       "\n",
       "                                          ST_COLDESC  SEGLANEKEY  \\\n",
       "0                                  Entering at angle           0   \n",
       "1  From same direction - both going straight - bo...           0   \n",
       "2                             One parked--one moving           0   \n",
       "\n",
       "   CROSSWALKKEY  HITPARKEDCAR  \n",
       "0             0             N  \n",
       "1             0             N  \n",
       "2             0             N  \n",
       "\n",
       "[3 rows x 38 columns]"
      ]
     },
     "execution_count": 3,
     "metadata": {},
     "output_type": "execute_result"
    }
   ],
   "source": [
    "df.head(3)"
   ]
  },
  {
   "cell_type": "code",
   "execution_count": 4,
   "metadata": {},
   "outputs": [
    {
     "data": {
      "text/plain": [
       "Index(['SEVERITYCODE', 'X', 'Y', 'OBJECTID', 'INCKEY', 'COLDETKEY', 'REPORTNO',\n",
       "       'STATUS', 'ADDRTYPE', 'INTKEY', 'LOCATION', 'EXCEPTRSNCODE',\n",
       "       'EXCEPTRSNDESC', 'SEVERITYCODE.1', 'SEVERITYDESC', 'COLLISIONTYPE',\n",
       "       'PERSONCOUNT', 'PEDCOUNT', 'PEDCYLCOUNT', 'VEHCOUNT', 'INCDATE',\n",
       "       'INCDTTM', 'JUNCTIONTYPE', 'SDOT_COLCODE', 'SDOT_COLDESC',\n",
       "       'INATTENTIONIND', 'UNDERINFL', 'WEATHER', 'ROADCOND', 'LIGHTCOND',\n",
       "       'PEDROWNOTGRNT', 'SDOTCOLNUM', 'SPEEDING', 'ST_COLCODE', 'ST_COLDESC',\n",
       "       'SEGLANEKEY', 'CROSSWALKKEY', 'HITPARKEDCAR'],\n",
       "      dtype='object')"
      ]
     },
     "execution_count": 4,
     "metadata": {},
     "output_type": "execute_result"
    }
   ],
   "source": [
    "df.columns"
   ]
  },
  {
   "cell_type": "code",
   "execution_count": 5,
   "metadata": {},
   "outputs": [
    {
     "data": {
      "text/plain": [
       "SEVERITYCODE  SEVERITYDESC                  \n",
       "1             Property Damage Only Collision    136485\n",
       "2             Injury Collision                   58188\n",
       "Name: SEVERITYDESC, dtype: int64"
      ]
     },
     "execution_count": 5,
     "metadata": {},
     "output_type": "execute_result"
    }
   ],
   "source": [
    "df.groupby('SEVERITYCODE')['SEVERITYDESC'].value_counts()"
   ]
  },
  {
   "cell_type": "code",
   "execution_count": 6,
   "metadata": {},
   "outputs": [
    {
     "data": {
      "text/plain": [
       "SEVERITYCODE        int64\n",
       "X                 float64\n",
       "Y                 float64\n",
       "OBJECTID            int64\n",
       "INCKEY              int64\n",
       "COLDETKEY           int64\n",
       "REPORTNO           object\n",
       "STATUS             object\n",
       "ADDRTYPE           object\n",
       "INTKEY            float64\n",
       "LOCATION           object\n",
       "EXCEPTRSNCODE      object\n",
       "EXCEPTRSNDESC      object\n",
       "SEVERITYCODE.1      int64\n",
       "SEVERITYDESC       object\n",
       "COLLISIONTYPE      object\n",
       "PERSONCOUNT         int64\n",
       "PEDCOUNT            int64\n",
       "PEDCYLCOUNT         int64\n",
       "VEHCOUNT            int64\n",
       "INCDATE            object\n",
       "INCDTTM            object\n",
       "JUNCTIONTYPE       object\n",
       "SDOT_COLCODE        int64\n",
       "SDOT_COLDESC       object\n",
       "INATTENTIONIND     object\n",
       "UNDERINFL          object\n",
       "WEATHER            object\n",
       "ROADCOND           object\n",
       "LIGHTCOND          object\n",
       "PEDROWNOTGRNT      object\n",
       "SDOTCOLNUM        float64\n",
       "SPEEDING           object\n",
       "ST_COLCODE         object\n",
       "ST_COLDESC         object\n",
       "SEGLANEKEY          int64\n",
       "CROSSWALKKEY        int64\n",
       "HITPARKEDCAR       object\n",
       "dtype: object"
      ]
     },
     "execution_count": 6,
     "metadata": {},
     "output_type": "execute_result"
    }
   ],
   "source": [
    "df.dtypes"
   ]
  },
  {
   "cell_type": "code",
   "execution_count": 7,
   "metadata": {},
   "outputs": [
    {
     "data": {
      "text/html": [
       "<div>\n",
       "<style scoped>\n",
       "    .dataframe tbody tr th:only-of-type {\n",
       "        vertical-align: middle;\n",
       "    }\n",
       "\n",
       "    .dataframe tbody tr th {\n",
       "        vertical-align: top;\n",
       "    }\n",
       "\n",
       "    .dataframe thead th {\n",
       "        text-align: right;\n",
       "    }\n",
       "</style>\n",
       "<table border=\"1\" class=\"dataframe\">\n",
       "  <thead>\n",
       "    <tr style=\"text-align: right;\">\n",
       "      <th></th>\n",
       "      <th>SEVERITYDESC</th>\n",
       "    </tr>\n",
       "  </thead>\n",
       "  <tbody>\n",
       "    <tr>\n",
       "      <th>Property Damage Only Collision</th>\n",
       "      <td>136485</td>\n",
       "    </tr>\n",
       "    <tr>\n",
       "      <th>Injury Collision</th>\n",
       "      <td>58188</td>\n",
       "    </tr>\n",
       "  </tbody>\n",
       "</table>\n",
       "</div>"
      ],
      "text/plain": [
       "                                SEVERITYDESC\n",
       "Property Damage Only Collision        136485\n",
       "Injury Collision                       58188"
      ]
     },
     "execution_count": 7,
     "metadata": {},
     "output_type": "execute_result"
    }
   ],
   "source": [
    "df['SEVERITYDESC'].value_counts().to_frame() # choosing columns to use from the dataframe"
   ]
  },
  {
   "cell_type": "code",
   "execution_count": 8,
   "metadata": {},
   "outputs": [
    {
     "name": "stdout",
     "output_type": "stream",
     "text": [
      "[ 23807.  23808.  23811. ... 725404. 757580.     nan]\n",
      "7615\n"
     ]
    }
   ],
   "source": [
    "# exploring INTKEY unique values and counts\n",
    "print(np.sort(df['INTKEY'].unique()))\n",
    "print(len(df['INTKEY'].unique()))"
   ]
  },
  {
   "cell_type": "code",
   "execution_count": 9,
   "metadata": {},
   "outputs": [
    {
     "data": {
      "text/plain": [
       "ADDRTYPE      JUNCTIONTYPE                                     \n",
       "Alley         Mid-Block (not related to intersection)                176\n",
       "              Driveway Junction                                       59\n",
       "              At Intersection (but not related to intersection)        1\n",
       "Block         Mid-Block (not related to intersection)              89330\n",
       "              Mid-Block (but intersection related)                 22774\n",
       "              Driveway Junction                                    10611\n",
       "              Ramp Junction                                          133\n",
       "              At Intersection (intersection related)                   4\n",
       "              Unknown                                                  4\n",
       "              At Intersection (but not related to intersection)        1\n",
       "Intersection  At Intersection (intersection related)               62782\n",
       "              At Intersection (but not related to intersection)     2094\n",
       "              Ramp Junction                                           31\n",
       "              Mid-Block (not related to intersection)                 11\n",
       "              Unknown                                                  2\n",
       "              Mid-Block (but intersection related)                     1\n",
       "Name: JUNCTIONTYPE, dtype: int64"
      ]
     },
     "execution_count": 9,
     "metadata": {},
     "output_type": "execute_result"
    }
   ],
   "source": [
    "# exploring junctiontype and addrtype relationship\n",
    "df.groupby('ADDRTYPE')['JUNCTIONTYPE'].value_counts()"
   ]
  },
  {
   "cell_type": "code",
   "execution_count": 10,
   "metadata": {},
   "outputs": [
    {
     "data": {
      "text/plain": [
       "0         190862\n",
       "523609        17\n",
       "520838        15\n",
       "525567        13\n",
       "521707        10\n",
       "           ...  \n",
       "521019         1\n",
       "630862         1\n",
       "25545          1\n",
       "523322         1\n",
       "27186          1\n",
       "Name: CROSSWALKKEY, Length: 2198, dtype: int64"
      ]
     },
     "execution_count": 10,
     "metadata": {},
     "output_type": "execute_result"
    }
   ],
   "source": [
    "# exploring crosswalkkey value counts\n",
    "df['CROSSWALKKEY'].value_counts()"
   ]
  },
  {
   "cell_type": "code",
   "execution_count": 11,
   "metadata": {},
   "outputs": [
    {
     "name": "stdout",
     "output_type": "stream",
     "text": [
      "               NON_ZERO_CROSSWALKKEY_COUNT  ZERO_CROSSWALKKEY_COUNT\n",
      "COLLISIONTYPE                                                      \n",
      "Angles                                   8                    34666\n",
      "Cycles                                 627                     4788\n",
      "Left Turn                                5                    13698\n",
      "Other                                    4                    23699\n",
      "Parked Car                               1                    47986\n",
      "Pedestrian                            3104                     3504\n",
      "Rear Ended                              10                    34080\n",
      "Right Turn                               2                     2954\n",
      "Sideswipe                                2                    18607\n"
     ]
    },
    {
     "data": {
      "image/png": "[encoded data removed]",
      "text/plain": [
       "<Figure size 432x288 with 1 Axes>"
      ]
     },
     "metadata": {
      "needs_background": "light"
     },
     "output_type": "display_data"
    }
   ],
   "source": [
    "# filtering out CROSSWALKKEY according to non-zero and zero values, grouped by COLLISIONTYPE\n",
    "del_df1 = df[df['CROSSWALKKEY'] !=0].groupby('COLLISIONTYPE').size().to_frame('NON_ZERO_CROSSWALKKEY_COUNT')\n",
    "del_df2 = df[df['CROSSWALKKEY'] ==0].groupby('COLLISIONTYPE').size().to_frame('ZERO_CROSSWALKKEY_COUNT')\n",
    "\n",
    "# merging 2 dfs and normalising along columns\n",
    "del_df1 = pd.merge(del_df1, del_df2, on='COLLISIONTYPE')\n",
    "print(del_df1)\n",
    "del_df1 = (del_df1/del_df1.sum()).reset_index()\n",
    "\n",
    "# plot \n",
    "del_df1.plot(x='COLLISIONTYPE', kind='bar')\n",
    "\n",
    "plt.show()"
   ]
  },
  {
   "cell_type": "code",
   "execution_count": 12,
   "metadata": {},
   "outputs": [
    {
     "data": {
      "text/plain": [
       "0         191907\n",
       "6532          19\n",
       "6078          16\n",
       "12162         15\n",
       "10336         14\n",
       "           ...  \n",
       "35157          1\n",
       "10817          1\n",
       "15043          1\n",
       "525169         1\n",
       "16376          1\n",
       "Name: SEGLANEKEY, Length: 1955, dtype: int64"
      ]
     },
     "execution_count": 12,
     "metadata": {},
     "output_type": "execute_result"
    }
   ],
   "source": [
    "# exploring SEGLANEKEY values\n",
    "df['SEGLANEKEY'].value_counts()"
   ]
  },
  {
   "cell_type": "code",
   "execution_count": 13,
   "metadata": {},
   "outputs": [
    {
     "name": "stdout",
     "output_type": "stream",
     "text": [
      "               NON_ZERO_SEGLANEKEY_COUNT  ZERO_SEGLANEKEY_COUNT\n",
      "COLLISIONTYPE                                                  \n",
      "Angles                                 9                  34665\n",
      "Cycles                              2668                   2747\n",
      "Head On                                2                   2022\n",
      "Left Turn                             14                  13689\n",
      "Other                                 19                  23684\n",
      "Parked Car                             2                  47985\n",
      "Pedestrian                             4                   6604\n",
      "Rear Ended                             4                  34086\n",
      "Right Turn                             4                   2952\n",
      "Sideswipe                              4                  18605\n"
     ]
    },
    {
     "data": {
      "image/png": "[encoded data removed]",
      "text/plain": [
       "<Figure size 432x288 with 1 Axes>"
      ]
     },
     "metadata": {
      "needs_background": "light"
     },
     "output_type": "display_data"
    }
   ],
   "source": [
    "\n",
    "# filtering out SEGLANEKEY according to non-zero and zero values, grouped by COLLISIONTYPE\n",
    "del_df1 = df[df['SEGLANEKEY'] !=0].groupby('COLLISIONTYPE').size().to_frame('NON_ZERO_SEGLANEKEY_COUNT')\n",
    "del_df2 = df[df['SEGLANEKEY'] ==0].groupby('COLLISIONTYPE').size().to_frame('ZERO_SEGLANEKEY_COUNT')\n",
    "\n",
    "# merging 2 dfs and normalising along columns\n",
    "del_df1 = pd.merge(del_df1, del_df2, on='COLLISIONTYPE')\n",
    "print(del_df1)\n",
    "del_df1 = (del_df1/del_df1.sum()).reset_index()\n",
    "\n",
    "# plot \n",
    "del_df1.plot(x='COLLISIONTYPE', kind='bar')\n",
    "plt.show()"
   ]
  },
  {
   "cell_type": "code",
   "execution_count": 14,
   "metadata": {},
   "outputs": [
    {
     "data": {
      "text/html": [
       "<div>\n",
       "<style scoped>\n",
       "    .dataframe tbody tr th:only-of-type {\n",
       "        vertical-align: middle;\n",
       "    }\n",
       "\n",
       "    .dataframe tbody tr th {\n",
       "        vertical-align: top;\n",
       "    }\n",
       "\n",
       "    .dataframe thead th {\n",
       "        text-align: right;\n",
       "    }\n",
       "</style>\n",
       "<table border=\"1\" class=\"dataframe\">\n",
       "  <thead>\n",
       "    <tr style=\"text-align: right;\">\n",
       "      <th></th>\n",
       "      <th>SEVERITYCODE</th>\n",
       "      <th>ADDRTYPE</th>\n",
       "      <th>JUNCTIONTYPE</th>\n",
       "      <th>WEATHER</th>\n",
       "      <th>ROADCOND</th>\n",
       "      <th>LIGHTCOND</th>\n",
       "    </tr>\n",
       "  </thead>\n",
       "  <tbody>\n",
       "    <tr>\n",
       "      <th>0</th>\n",
       "      <td>2</td>\n",
       "      <td>Intersection</td>\n",
       "      <td>At Intersection (intersection related)</td>\n",
       "      <td>Overcast</td>\n",
       "      <td>Wet</td>\n",
       "      <td>Daylight</td>\n",
       "    </tr>\n",
       "    <tr>\n",
       "      <th>1</th>\n",
       "      <td>1</td>\n",
       "      <td>Block</td>\n",
       "      <td>Mid-Block (not related to intersection)</td>\n",
       "      <td>Raining</td>\n",
       "      <td>Wet</td>\n",
       "      <td>Dark - Street Lights On</td>\n",
       "    </tr>\n",
       "    <tr>\n",
       "      <th>2</th>\n",
       "      <td>1</td>\n",
       "      <td>Block</td>\n",
       "      <td>Mid-Block (not related to intersection)</td>\n",
       "      <td>Overcast</td>\n",
       "      <td>Dry</td>\n",
       "      <td>Daylight</td>\n",
       "    </tr>\n",
       "    <tr>\n",
       "      <th>3</th>\n",
       "      <td>1</td>\n",
       "      <td>Block</td>\n",
       "      <td>Mid-Block (not related to intersection)</td>\n",
       "      <td>Clear</td>\n",
       "      <td>Dry</td>\n",
       "      <td>Daylight</td>\n",
       "    </tr>\n",
       "    <tr>\n",
       "      <th>4</th>\n",
       "      <td>2</td>\n",
       "      <td>Intersection</td>\n",
       "      <td>At Intersection (intersection related)</td>\n",
       "      <td>Raining</td>\n",
       "      <td>Wet</td>\n",
       "      <td>Daylight</td>\n",
       "    </tr>\n",
       "  </tbody>\n",
       "</table>\n",
       "</div>"
      ],
      "text/plain": [
       "   SEVERITYCODE      ADDRTYPE                             JUNCTIONTYPE  \\\n",
       "0             2  Intersection   At Intersection (intersection related)   \n",
       "1             1         Block  Mid-Block (not related to intersection)   \n",
       "2             1         Block  Mid-Block (not related to intersection)   \n",
       "3             1         Block  Mid-Block (not related to intersection)   \n",
       "4             2  Intersection   At Intersection (intersection related)   \n",
       "\n",
       "    WEATHER ROADCOND                LIGHTCOND  \n",
       "0  Overcast      Wet                 Daylight  \n",
       "1   Raining      Wet  Dark - Street Lights On  \n",
       "2  Overcast      Dry                 Daylight  \n",
       "3     Clear      Dry                 Daylight  \n",
       "4   Raining      Wet                 Daylight  "
      ]
     },
     "execution_count": 14,
     "metadata": {},
     "output_type": "execute_result"
    }
   ],
   "source": [
    "# Create a dataframe which has only the selected features#\n",
    "df_sev=df[['SEVERITYCODE','ADDRTYPE','JUNCTIONTYPE','WEATHER','ROADCOND', 'LIGHTCOND']]\n",
    "df_sev.head()"
   ]
  },
  {
   "cell_type": "code",
   "execution_count": 15,
   "metadata": {},
   "outputs": [
    {
     "data": {
      "text/plain": [
       "ADDRTYPE        1926\n",
       "JUNCTIONTYPE    6329\n",
       "WEATHER         5081\n",
       "ROADCOND        5012\n",
       "LIGHTCOND       5170\n",
       "dtype: int64"
      ]
     },
     "execution_count": 15,
     "metadata": {},
     "output_type": "execute_result"
    }
   ],
   "source": [
    "### To check the null values in each Column #####\n",
    "null_columns=df_sev.columns[df_sev.isnull().any()]\n",
    "df_sev[null_columns].isnull().sum()"
   ]
  },
  {
   "cell_type": "markdown",
   "metadata": {},
   "source": [
    "## Data Cleaning"
   ]
  },
  {
   "cell_type": "code",
   "execution_count": 16,
   "metadata": {},
   "outputs": [
    {
     "data": {
      "text/plain": [
       "SEVERITYCODE       0\n",
       "ADDRTYPE        1926\n",
       "JUNCTIONTYPE    6329\n",
       "WEATHER         5081\n",
       "ROADCOND        5012\n",
       "LIGHTCOND       5170\n",
       "dtype: int64"
      ]
     },
     "execution_count": 16,
     "metadata": {},
     "output_type": "execute_result"
    }
   ],
   "source": [
    "# CHECK FOR NULL VALUES IN KEY COLUMNS #\n",
    "df_sev.isnull().sum()"
   ]
  },
  {
   "cell_type": "code",
   "execution_count": 17,
   "metadata": {},
   "outputs": [
    {
     "name": "stderr",
     "output_type": "stream",
     "text": [
      "<ipython-input-17-0c5fcec5e8cb>:2: SettingWithCopyWarning: \n",
      "A value is trying to be set on a copy of a slice from a DataFrame.\n",
      "Try using .loc[row_indexer,col_indexer] = value instead\n",
      "\n",
      "See the caveats in the documentation: https://pandas.pydata.org/pandas-docs/stable/user_guide/indexing.html#returning-a-view-versus-a-copy\n",
      "  df_sev['ADDRTYPE'] = df_sev['ADDRTYPE'].fillna(0)\n",
      "<ipython-input-17-0c5fcec5e8cb>:3: SettingWithCopyWarning: \n",
      "A value is trying to be set on a copy of a slice from a DataFrame.\n",
      "Try using .loc[row_indexer,col_indexer] = value instead\n",
      "\n",
      "See the caveats in the documentation: https://pandas.pydata.org/pandas-docs/stable/user_guide/indexing.html#returning-a-view-versus-a-copy\n",
      "  df_sev['ADDRTYPE'] = df_sev['ADDRTYPE'].replace(0,'Other')\n",
      "<ipython-input-17-0c5fcec5e8cb>:5: SettingWithCopyWarning: \n",
      "A value is trying to be set on a copy of a slice from a DataFrame.\n",
      "Try using .loc[row_indexer,col_indexer] = value instead\n",
      "\n",
      "See the caveats in the documentation: https://pandas.pydata.org/pandas-docs/stable/user_guide/indexing.html#returning-a-view-versus-a-copy\n",
      "  df_sev['JUNCTIONTYPE'] = df_sev['JUNCTIONTYPE'].fillna(0)\n",
      "<ipython-input-17-0c5fcec5e8cb>:6: SettingWithCopyWarning: \n",
      "A value is trying to be set on a copy of a slice from a DataFrame.\n",
      "Try using .loc[row_indexer,col_indexer] = value instead\n",
      "\n",
      "See the caveats in the documentation: https://pandas.pydata.org/pandas-docs/stable/user_guide/indexing.html#returning-a-view-versus-a-copy\n",
      "  df_sev['JUNCTIONTYPE'] = df_sev['JUNCTIONTYPE'].replace(0,'Other')\n",
      "<ipython-input-17-0c5fcec5e8cb>:8: SettingWithCopyWarning: \n",
      "A value is trying to be set on a copy of a slice from a DataFrame.\n",
      "Try using .loc[row_indexer,col_indexer] = value instead\n",
      "\n",
      "See the caveats in the documentation: https://pandas.pydata.org/pandas-docs/stable/user_guide/indexing.html#returning-a-view-versus-a-copy\n",
      "  df_sev['WEATHER'] = df_sev['WEATHER'].fillna(0)\n",
      "<ipython-input-17-0c5fcec5e8cb>:9: SettingWithCopyWarning: \n",
      "A value is trying to be set on a copy of a slice from a DataFrame.\n",
      "Try using .loc[row_indexer,col_indexer] = value instead\n",
      "\n",
      "See the caveats in the documentation: https://pandas.pydata.org/pandas-docs/stable/user_guide/indexing.html#returning-a-view-versus-a-copy\n",
      "  df_sev['WEATHER'] = df_sev['WEATHER'].replace(0,'Unspecified')\n",
      "<ipython-input-17-0c5fcec5e8cb>:11: SettingWithCopyWarning: \n",
      "A value is trying to be set on a copy of a slice from a DataFrame.\n",
      "Try using .loc[row_indexer,col_indexer] = value instead\n",
      "\n",
      "See the caveats in the documentation: https://pandas.pydata.org/pandas-docs/stable/user_guide/indexing.html#returning-a-view-versus-a-copy\n",
      "  df_sev['ROADCOND'] = df_sev['ROADCOND'].fillna(0)\n",
      "<ipython-input-17-0c5fcec5e8cb>:12: SettingWithCopyWarning: \n",
      "A value is trying to be set on a copy of a slice from a DataFrame.\n",
      "Try using .loc[row_indexer,col_indexer] = value instead\n",
      "\n",
      "See the caveats in the documentation: https://pandas.pydata.org/pandas-docs/stable/user_guide/indexing.html#returning-a-view-versus-a-copy\n",
      "  df_sev['ROADCOND'] = df_sev['ROADCOND'].replace(0,'Unspecified')\n",
      "<ipython-input-17-0c5fcec5e8cb>:14: SettingWithCopyWarning: \n",
      "A value is trying to be set on a copy of a slice from a DataFrame.\n",
      "Try using .loc[row_indexer,col_indexer] = value instead\n",
      "\n",
      "See the caveats in the documentation: https://pandas.pydata.org/pandas-docs/stable/user_guide/indexing.html#returning-a-view-versus-a-copy\n",
      "  df_sev['LIGHTCOND'] = df_sev['LIGHTCOND'].fillna(0)\n",
      "<ipython-input-17-0c5fcec5e8cb>:15: SettingWithCopyWarning: \n",
      "A value is trying to be set on a copy of a slice from a DataFrame.\n",
      "Try using .loc[row_indexer,col_indexer] = value instead\n",
      "\n",
      "See the caveats in the documentation: https://pandas.pydata.org/pandas-docs/stable/user_guide/indexing.html#returning-a-view-versus-a-copy\n",
      "  df_sev['LIGHTCOND'] = df_sev['LIGHTCOND'].replace(0,'Unspecified')\n"
     ]
    }
   ],
   "source": [
    "#  Replace NULL Values with \"Others\"  #\n",
    "df_sev['ADDRTYPE'] = df_sev['ADDRTYPE'].fillna(0)\n",
    "df_sev['ADDRTYPE'] = df_sev['ADDRTYPE'].replace(0,'Other')\n",
    "\n",
    "df_sev['JUNCTIONTYPE'] = df_sev['JUNCTIONTYPE'].fillna(0)\n",
    "df_sev['JUNCTIONTYPE'] = df_sev['JUNCTIONTYPE'].replace(0,'Other')\n",
    "\n",
    "df_sev['WEATHER'] = df_sev['WEATHER'].fillna(0)\n",
    "df_sev['WEATHER'] = df_sev['WEATHER'].replace(0,'Unspecified')\n",
    "\n",
    "df_sev['ROADCOND'] = df_sev['ROADCOND'].fillna(0)\n",
    "df_sev['ROADCOND'] = df_sev['ROADCOND'].replace(0,'Unspecified')\n",
    "\n",
    "df_sev['LIGHTCOND'] = df_sev['LIGHTCOND'].fillna(0)\n",
    "df_sev['LIGHTCOND'] = df_sev['LIGHTCOND'].replace(0,'Unspecified')"
   ]
  },
  {
   "cell_type": "code",
   "execution_count": 18,
   "metadata": {},
   "outputs": [],
   "source": [
    "# list of features to keep\n",
    "\n",
    "features = ['STATUS','ADDRTYPE', 'SEVERITYCODE','PERSONCOUNT', 'PEDCOUNT',\n",
    "            'PEDCYLCOUNT', 'VEHCOUNT', 'INCDATE', 'INCDTTM','JUNCTIONTYPE',\n",
    "            'WEATHER', 'ROADCOND', 'LIGHTCOND', 'SEGLANEKEY','CROSSWALKKEY',\n",
    "            'HITPARKEDCAR']"
   ]
  },
  {
   "cell_type": "code",
   "execution_count": 19,
   "metadata": {},
   "outputs": [
    {
     "data": {
      "text/plain": [
       "SEVERITYCODE    0\n",
       "ADDRTYPE        0\n",
       "JUNCTIONTYPE    0\n",
       "WEATHER         0\n",
       "ROADCOND        0\n",
       "LIGHTCOND       0\n",
       "dtype: int64"
      ]
     },
     "execution_count": 19,
     "metadata": {},
     "output_type": "execute_result"
    }
   ],
   "source": [
    "df_sev.isnull().sum()"
   ]
  },
  {
   "cell_type": "code",
   "execution_count": 20,
   "metadata": {},
   "outputs": [
    {
     "name": "stderr",
     "output_type": "stream",
     "text": [
      "<ipython-input-20-0ac55277391c>:5: SettingWithCopyWarning: \n",
      "A value is trying to be set on a copy of a slice from a DataFrame.\n",
      "Try using .loc[row_indexer,col_indexer] = value instead\n",
      "\n",
      "See the caveats in the documentation: https://pandas.pydata.org/pandas-docs/stable/user_guide/indexing.html#returning-a-view-versus-a-copy\n",
      "  df_sev['SEVERITYCODE'] = severity.transform(df_sev['SEVERITYCODE'])\n",
      "<ipython-input-20-0ac55277391c>:10: SettingWithCopyWarning: \n",
      "A value is trying to be set on a copy of a slice from a DataFrame.\n",
      "Try using .loc[row_indexer,col_indexer] = value instead\n",
      "\n",
      "See the caveats in the documentation: https://pandas.pydata.org/pandas-docs/stable/user_guide/indexing.html#returning-a-view-versus-a-copy\n",
      "  df_sev['ADDRTYPE'] = addrtype.transform(df_sev['ADDRTYPE'])\n",
      "<ipython-input-20-0ac55277391c>:14: SettingWithCopyWarning: \n",
      "A value is trying to be set on a copy of a slice from a DataFrame.\n",
      "Try using .loc[row_indexer,col_indexer] = value instead\n",
      "\n",
      "See the caveats in the documentation: https://pandas.pydata.org/pandas-docs/stable/user_guide/indexing.html#returning-a-view-versus-a-copy\n",
      "  df_sev['JUNCTIONTYPE'] = junctype.transform(df_sev['JUNCTIONTYPE'])\n",
      "<ipython-input-20-0ac55277391c>:18: SettingWithCopyWarning: \n",
      "A value is trying to be set on a copy of a slice from a DataFrame.\n",
      "Try using .loc[row_indexer,col_indexer] = value instead\n",
      "\n",
      "See the caveats in the documentation: https://pandas.pydata.org/pandas-docs/stable/user_guide/indexing.html#returning-a-view-versus-a-copy\n",
      "  df_sev['WEATHER'] = weather.transform(df_sev['WEATHER'])\n",
      "<ipython-input-20-0ac55277391c>:22: SettingWithCopyWarning: \n",
      "A value is trying to be set on a copy of a slice from a DataFrame.\n",
      "Try using .loc[row_indexer,col_indexer] = value instead\n",
      "\n",
      "See the caveats in the documentation: https://pandas.pydata.org/pandas-docs/stable/user_guide/indexing.html#returning-a-view-versus-a-copy\n",
      "  df_sev['ROADCOND'] = roadcond.transform(df_sev['ROADCOND'])\n",
      "<ipython-input-20-0ac55277391c>:26: SettingWithCopyWarning: \n",
      "A value is trying to be set on a copy of a slice from a DataFrame.\n",
      "Try using .loc[row_indexer,col_indexer] = value instead\n",
      "\n",
      "See the caveats in the documentation: https://pandas.pydata.org/pandas-docs/stable/user_guide/indexing.html#returning-a-view-versus-a-copy\n",
      "  df_sev['LIGHTCOND'] = lightcond.transform(df_sev['LIGHTCOND'])\n"
     ]
    },
    {
     "data": {
      "text/html": [
       "<div>\n",
       "<style scoped>\n",
       "    .dataframe tbody tr th:only-of-type {\n",
       "        vertical-align: middle;\n",
       "    }\n",
       "\n",
       "    .dataframe tbody tr th {\n",
       "        vertical-align: top;\n",
       "    }\n",
       "\n",
       "    .dataframe thead th {\n",
       "        text-align: right;\n",
       "    }\n",
       "</style>\n",
       "<table border=\"1\" class=\"dataframe\">\n",
       "  <thead>\n",
       "    <tr style=\"text-align: right;\">\n",
       "      <th></th>\n",
       "      <th>SEVERITYCODE</th>\n",
       "      <th>ADDRTYPE</th>\n",
       "      <th>JUNCTIONTYPE</th>\n",
       "      <th>WEATHER</th>\n",
       "      <th>ROADCOND</th>\n",
       "      <th>LIGHTCOND</th>\n",
       "    </tr>\n",
       "  </thead>\n",
       "  <tbody>\n",
       "    <tr>\n",
       "      <th>0</th>\n",
       "      <td>1</td>\n",
       "      <td>2</td>\n",
       "      <td>1</td>\n",
       "      <td>4</td>\n",
       "      <td>9</td>\n",
       "      <td>5</td>\n",
       "    </tr>\n",
       "    <tr>\n",
       "      <th>1</th>\n",
       "      <td>0</td>\n",
       "      <td>1</td>\n",
       "      <td>4</td>\n",
       "      <td>6</td>\n",
       "      <td>9</td>\n",
       "      <td>2</td>\n",
       "    </tr>\n",
       "    <tr>\n",
       "      <th>2</th>\n",
       "      <td>0</td>\n",
       "      <td>1</td>\n",
       "      <td>4</td>\n",
       "      <td>4</td>\n",
       "      <td>0</td>\n",
       "      <td>5</td>\n",
       "    </tr>\n",
       "    <tr>\n",
       "      <th>3</th>\n",
       "      <td>0</td>\n",
       "      <td>1</td>\n",
       "      <td>4</td>\n",
       "      <td>1</td>\n",
       "      <td>0</td>\n",
       "      <td>5</td>\n",
       "    </tr>\n",
       "    <tr>\n",
       "      <th>4</th>\n",
       "      <td>1</td>\n",
       "      <td>2</td>\n",
       "      <td>1</td>\n",
       "      <td>6</td>\n",
       "      <td>9</td>\n",
       "      <td>5</td>\n",
       "    </tr>\n",
       "  </tbody>\n",
       "</table>\n",
       "</div>"
      ],
      "text/plain": [
       "   SEVERITYCODE  ADDRTYPE  JUNCTIONTYPE  WEATHER  ROADCOND  LIGHTCOND\n",
       "0             1         2             1        4         9          5\n",
       "1             0         1             4        6         9          2\n",
       "2             0         1             4        4         0          5\n",
       "3             0         1             4        1         0          5\n",
       "4             1         2             1        6         9          5"
      ]
     },
     "execution_count": 20,
     "metadata": {},
     "output_type": "execute_result"
    }
   ],
   "source": [
    "## Encoding the features into Numarical values###\n",
    "\n",
    "severity = preprocessing.LabelEncoder()\n",
    "severity.fit(df_sev['SEVERITYCODE'])\n",
    "df_sev['SEVERITYCODE'] = severity.transform(df_sev['SEVERITYCODE'])\n",
    "\n",
    "\n",
    "addrtype = preprocessing.LabelEncoder()\n",
    "addrtype.fit(df_sev['ADDRTYPE'])\n",
    "df_sev['ADDRTYPE'] = addrtype.transform(df_sev['ADDRTYPE'])\n",
    "\n",
    "junctype = preprocessing.LabelEncoder()\n",
    "junctype.fit(df_sev['JUNCTIONTYPE'])\n",
    "df_sev['JUNCTIONTYPE'] = junctype.transform(df_sev['JUNCTIONTYPE'])\n",
    "\n",
    "weather = preprocessing.LabelEncoder()\n",
    "weather.fit(df_sev['WEATHER'])\n",
    "df_sev['WEATHER'] = weather.transform(df_sev['WEATHER'])\n",
    "\n",
    "roadcond = preprocessing.LabelEncoder()\n",
    "roadcond.fit(df_sev['ROADCOND'])\n",
    "df_sev['ROADCOND'] = roadcond.transform(df_sev['ROADCOND'])\n",
    "\n",
    "lightcond = preprocessing.LabelEncoder()\n",
    "lightcond.fit(df_sev['LIGHTCOND'])\n",
    "df_sev['LIGHTCOND'] = lightcond.transform(df_sev['LIGHTCOND'])\n",
    "\n",
    "\n",
    "df_sev.head(5)"
   ]
  },
  {
   "cell_type": "markdown",
   "metadata": {},
   "source": [
    "# Understand the Correlation"
   ]
  },
  {
   "cell_type": "code",
   "execution_count": 21,
   "metadata": {},
   "outputs": [
    {
     "data": {
      "text/html": [
       "<div>\n",
       "<style scoped>\n",
       "    .dataframe tbody tr th:only-of-type {\n",
       "        vertical-align: middle;\n",
       "    }\n",
       "\n",
       "    .dataframe tbody tr th {\n",
       "        vertical-align: top;\n",
       "    }\n",
       "\n",
       "    .dataframe thead th {\n",
       "        text-align: right;\n",
       "    }\n",
       "</style>\n",
       "<table border=\"1\" class=\"dataframe\">\n",
       "  <thead>\n",
       "    <tr style=\"text-align: right;\">\n",
       "      <th></th>\n",
       "      <th>SEVERITYCODE</th>\n",
       "      <th>ADDRTYPE</th>\n",
       "      <th>JUNCTIONTYPE</th>\n",
       "      <th>WEATHER</th>\n",
       "      <th>ROADCOND</th>\n",
       "      <th>LIGHTCOND</th>\n",
       "    </tr>\n",
       "  </thead>\n",
       "  <tbody>\n",
       "    <tr>\n",
       "      <th>SEVERITYCODE</th>\n",
       "      <td>1.000000</td>\n",
       "      <td>0.172032</td>\n",
       "      <td>-0.216118</td>\n",
       "      <td>-0.112507</td>\n",
       "      <td>-0.045574</td>\n",
       "      <td>-0.067817</td>\n",
       "    </tr>\n",
       "    <tr>\n",
       "      <th>ADDRTYPE</th>\n",
       "      <td>0.172032</td>\n",
       "      <td>1.000000</td>\n",
       "      <td>-0.804215</td>\n",
       "      <td>-0.038823</td>\n",
       "      <td>-0.002626</td>\n",
       "      <td>-0.013375</td>\n",
       "    </tr>\n",
       "    <tr>\n",
       "      <th>JUNCTIONTYPE</th>\n",
       "      <td>-0.216118</td>\n",
       "      <td>-0.804215</td>\n",
       "      <td>1.000000</td>\n",
       "      <td>0.134021</td>\n",
       "      <td>0.048077</td>\n",
       "      <td>0.077417</td>\n",
       "    </tr>\n",
       "    <tr>\n",
       "      <th>WEATHER</th>\n",
       "      <td>-0.112507</td>\n",
       "      <td>-0.038823</td>\n",
       "      <td>0.134021</td>\n",
       "      <td>1.000000</td>\n",
       "      <td>0.728901</td>\n",
       "      <td>0.339707</td>\n",
       "    </tr>\n",
       "    <tr>\n",
       "      <th>ROADCOND</th>\n",
       "      <td>-0.045574</td>\n",
       "      <td>-0.002626</td>\n",
       "      <td>0.048077</td>\n",
       "      <td>0.728901</td>\n",
       "      <td>1.000000</td>\n",
       "      <td>0.083132</td>\n",
       "    </tr>\n",
       "    <tr>\n",
       "      <th>LIGHTCOND</th>\n",
       "      <td>-0.067817</td>\n",
       "      <td>-0.013375</td>\n",
       "      <td>0.077417</td>\n",
       "      <td>0.339707</td>\n",
       "      <td>0.083132</td>\n",
       "      <td>1.000000</td>\n",
       "    </tr>\n",
       "  </tbody>\n",
       "</table>\n",
       "</div>"
      ],
      "text/plain": [
       "              SEVERITYCODE  ADDRTYPE  JUNCTIONTYPE   WEATHER  ROADCOND  \\\n",
       "SEVERITYCODE      1.000000  0.172032     -0.216118 -0.112507 -0.045574   \n",
       "ADDRTYPE          0.172032  1.000000     -0.804215 -0.038823 -0.002626   \n",
       "JUNCTIONTYPE     -0.216118 -0.804215      1.000000  0.134021  0.048077   \n",
       "WEATHER          -0.112507 -0.038823      0.134021  1.000000  0.728901   \n",
       "ROADCOND         -0.045574 -0.002626      0.048077  0.728901  1.000000   \n",
       "LIGHTCOND        -0.067817 -0.013375      0.077417  0.339707  0.083132   \n",
       "\n",
       "              LIGHTCOND  \n",
       "SEVERITYCODE  -0.067817  \n",
       "ADDRTYPE      -0.013375  \n",
       "JUNCTIONTYPE   0.077417  \n",
       "WEATHER        0.339707  \n",
       "ROADCOND       0.083132  \n",
       "LIGHTCOND      1.000000  "
      ]
     },
     "execution_count": 21,
     "metadata": {},
     "output_type": "execute_result"
    }
   ],
   "source": [
    "df_sev.corr()"
   ]
  },
  {
   "cell_type": "code",
   "execution_count": 22,
   "metadata": {},
   "outputs": [
    {
     "data": {
      "text/plain": [
       "<matplotlib.axes._subplots.AxesSubplot at 0x15e0d9948b0>"
      ]
     },
     "execution_count": 22,
     "metadata": {},
     "output_type": "execute_result"
    },
    {
     "data": {
      "image/png": "[encoded data removed]",
      "text/plain": [
       "<Figure size 432x288 with 2 Axes>"
      ]
     },
     "metadata": {
      "needs_background": "light"
     },
     "output_type": "display_data"
    }
   ],
   "source": [
    "sns.heatmap(df_sev.corr(), linewidth=.2, cbar_kws={\"shrink\": 1})"
   ]
  },
  {
   "cell_type": "markdown",
   "metadata": {},
   "source": [
    "## Relationship between WEATHER by SEVERITY of accidents"
   ]
  },
  {
   "cell_type": "code",
   "execution_count": 23,
   "metadata": {},
   "outputs": [
    {
     "data": {
      "text/html": [
       "<div>\n",
       "<style scoped>\n",
       "    .dataframe tbody tr th:only-of-type {\n",
       "        vertical-align: middle;\n",
       "    }\n",
       "\n",
       "    .dataframe tbody tr th {\n",
       "        vertical-align: top;\n",
       "    }\n",
       "\n",
       "    .dataframe thead th {\n",
       "        text-align: right;\n",
       "    }\n",
       "</style>\n",
       "<table border=\"1\" class=\"dataframe\">\n",
       "  <thead>\n",
       "    <tr style=\"text-align: right;\">\n",
       "      <th></th>\n",
       "      <th>ADDRTYPE</th>\n",
       "      <th>JUNCTIONTYPE</th>\n",
       "      <th>WEATHER</th>\n",
       "      <th>ROADCOND</th>\n",
       "      <th>LIGHTCOND</th>\n",
       "    </tr>\n",
       "  </thead>\n",
       "  <tbody>\n",
       "    <tr>\n",
       "      <th>0</th>\n",
       "      <td>2</td>\n",
       "      <td>1</td>\n",
       "      <td>4</td>\n",
       "      <td>9</td>\n",
       "      <td>5</td>\n",
       "    </tr>\n",
       "    <tr>\n",
       "      <th>1</th>\n",
       "      <td>1</td>\n",
       "      <td>4</td>\n",
       "      <td>6</td>\n",
       "      <td>9</td>\n",
       "      <td>2</td>\n",
       "    </tr>\n",
       "    <tr>\n",
       "      <th>2</th>\n",
       "      <td>1</td>\n",
       "      <td>4</td>\n",
       "      <td>4</td>\n",
       "      <td>0</td>\n",
       "      <td>5</td>\n",
       "    </tr>\n",
       "    <tr>\n",
       "      <th>3</th>\n",
       "      <td>1</td>\n",
       "      <td>4</td>\n",
       "      <td>1</td>\n",
       "      <td>0</td>\n",
       "      <td>5</td>\n",
       "    </tr>\n",
       "    <tr>\n",
       "      <th>4</th>\n",
       "      <td>2</td>\n",
       "      <td>1</td>\n",
       "      <td>6</td>\n",
       "      <td>9</td>\n",
       "      <td>5</td>\n",
       "    </tr>\n",
       "  </tbody>\n",
       "</table>\n",
       "</div>"
      ],
      "text/plain": [
       "   ADDRTYPE  JUNCTIONTYPE  WEATHER  ROADCOND  LIGHTCOND\n",
       "0         2             1        4         9          5\n",
       "1         1             4        6         9          2\n",
       "2         1             4        4         0          5\n",
       "3         1             4        1         0          5\n",
       "4         2             1        6         9          5"
      ]
     },
     "execution_count": 23,
     "metadata": {},
     "output_type": "execute_result"
    }
   ],
   "source": [
    "X = df_sev[['ADDRTYPE', 'JUNCTIONTYPE', 'WEATHER', 'ROADCOND', 'LIGHTCOND']]\n",
    "X.head()"
   ]
  },
  {
   "cell_type": "code",
   "execution_count": 24,
   "metadata": {},
   "outputs": [
    {
     "name": "stdout",
     "output_type": "stream",
     "text": [
      "(194673, 49)\n"
     ]
    },
    {
     "data": {
      "text/html": [
       "<div>\n",
       "<style scoped>\n",
       "    .dataframe tbody tr th:only-of-type {\n",
       "        vertical-align: middle;\n",
       "    }\n",
       "\n",
       "    .dataframe tbody tr th {\n",
       "        vertical-align: top;\n",
       "    }\n",
       "\n",
       "    .dataframe thead th {\n",
       "        text-align: right;\n",
       "    }\n",
       "</style>\n",
       "<table border=\"1\" class=\"dataframe\">\n",
       "  <thead>\n",
       "    <tr style=\"text-align: right;\">\n",
       "      <th></th>\n",
       "      <th>ADDRTYPE</th>\n",
       "      <th>JUNCTIONTYPE</th>\n",
       "      <th>WEATHER</th>\n",
       "      <th>ROADCOND</th>\n",
       "      <th>LIGHTCOND</th>\n",
       "      <th>0</th>\n",
       "      <th>1</th>\n",
       "      <th>2</th>\n",
       "      <th>3</th>\n",
       "      <th>0</th>\n",
       "      <th>...</th>\n",
       "      <th>0</th>\n",
       "      <th>1</th>\n",
       "      <th>2</th>\n",
       "      <th>3</th>\n",
       "      <th>4</th>\n",
       "      <th>5</th>\n",
       "      <th>6</th>\n",
       "      <th>7</th>\n",
       "      <th>8</th>\n",
       "      <th>9</th>\n",
       "    </tr>\n",
       "  </thead>\n",
       "  <tbody>\n",
       "    <tr>\n",
       "      <th>0</th>\n",
       "      <td>2</td>\n",
       "      <td>1</td>\n",
       "      <td>4</td>\n",
       "      <td>9</td>\n",
       "      <td>5</td>\n",
       "      <td>0</td>\n",
       "      <td>0</td>\n",
       "      <td>1</td>\n",
       "      <td>0</td>\n",
       "      <td>0</td>\n",
       "      <td>...</td>\n",
       "      <td>0</td>\n",
       "      <td>0</td>\n",
       "      <td>0</td>\n",
       "      <td>0</td>\n",
       "      <td>0</td>\n",
       "      <td>1</td>\n",
       "      <td>0</td>\n",
       "      <td>0</td>\n",
       "      <td>0</td>\n",
       "      <td>0</td>\n",
       "    </tr>\n",
       "    <tr>\n",
       "      <th>1</th>\n",
       "      <td>1</td>\n",
       "      <td>4</td>\n",
       "      <td>6</td>\n",
       "      <td>9</td>\n",
       "      <td>2</td>\n",
       "      <td>0</td>\n",
       "      <td>1</td>\n",
       "      <td>0</td>\n",
       "      <td>0</td>\n",
       "      <td>0</td>\n",
       "      <td>...</td>\n",
       "      <td>0</td>\n",
       "      <td>0</td>\n",
       "      <td>1</td>\n",
       "      <td>0</td>\n",
       "      <td>0</td>\n",
       "      <td>0</td>\n",
       "      <td>0</td>\n",
       "      <td>0</td>\n",
       "      <td>0</td>\n",
       "      <td>0</td>\n",
       "    </tr>\n",
       "    <tr>\n",
       "      <th>2</th>\n",
       "      <td>1</td>\n",
       "      <td>4</td>\n",
       "      <td>4</td>\n",
       "      <td>0</td>\n",
       "      <td>5</td>\n",
       "      <td>0</td>\n",
       "      <td>1</td>\n",
       "      <td>0</td>\n",
       "      <td>0</td>\n",
       "      <td>0</td>\n",
       "      <td>...</td>\n",
       "      <td>0</td>\n",
       "      <td>0</td>\n",
       "      <td>0</td>\n",
       "      <td>0</td>\n",
       "      <td>0</td>\n",
       "      <td>1</td>\n",
       "      <td>0</td>\n",
       "      <td>0</td>\n",
       "      <td>0</td>\n",
       "      <td>0</td>\n",
       "    </tr>\n",
       "    <tr>\n",
       "      <th>3</th>\n",
       "      <td>1</td>\n",
       "      <td>4</td>\n",
       "      <td>1</td>\n",
       "      <td>0</td>\n",
       "      <td>5</td>\n",
       "      <td>0</td>\n",
       "      <td>1</td>\n",
       "      <td>0</td>\n",
       "      <td>0</td>\n",
       "      <td>0</td>\n",
       "      <td>...</td>\n",
       "      <td>0</td>\n",
       "      <td>0</td>\n",
       "      <td>0</td>\n",
       "      <td>0</td>\n",
       "      <td>0</td>\n",
       "      <td>1</td>\n",
       "      <td>0</td>\n",
       "      <td>0</td>\n",
       "      <td>0</td>\n",
       "      <td>0</td>\n",
       "    </tr>\n",
       "    <tr>\n",
       "      <th>4</th>\n",
       "      <td>2</td>\n",
       "      <td>1</td>\n",
       "      <td>6</td>\n",
       "      <td>9</td>\n",
       "      <td>5</td>\n",
       "      <td>0</td>\n",
       "      <td>0</td>\n",
       "      <td>1</td>\n",
       "      <td>0</td>\n",
       "      <td>0</td>\n",
       "      <td>...</td>\n",
       "      <td>0</td>\n",
       "      <td>0</td>\n",
       "      <td>0</td>\n",
       "      <td>0</td>\n",
       "      <td>0</td>\n",
       "      <td>1</td>\n",
       "      <td>0</td>\n",
       "      <td>0</td>\n",
       "      <td>0</td>\n",
       "      <td>0</td>\n",
       "    </tr>\n",
       "  </tbody>\n",
       "</table>\n",
       "<p>5 rows × 49 columns</p>\n",
       "</div>"
      ],
      "text/plain": [
       "   ADDRTYPE  JUNCTIONTYPE  WEATHER  ROADCOND  LIGHTCOND  0  1  2  3  0  ...  \\\n",
       "0         2             1        4         9          5  0  0  1  0  0  ...   \n",
       "1         1             4        6         9          2  0  1  0  0  0  ...   \n",
       "2         1             4        4         0          5  0  1  0  0  0  ...   \n",
       "3         1             4        1         0          5  0  1  0  0  0  ...   \n",
       "4         2             1        6         9          5  0  0  1  0  0  ...   \n",
       "\n",
       "   0  1  2  3  4  5  6  7  8  9  \n",
       "0  0  0  0  0  0  1  0  0  0  0  \n",
       "1  0  0  1  0  0  0  0  0  0  0  \n",
       "2  0  0  0  0  0  1  0  0  0  0  \n",
       "3  0  0  0  0  0  1  0  0  0  0  \n",
       "4  0  0  0  0  0  1  0  0  0  0  \n",
       "\n",
       "[5 rows x 49 columns]"
      ]
     },
     "execution_count": 24,
     "metadata": {},
     "output_type": "execute_result"
    }
   ],
   "source": [
    "X = pd.concat([X, pd.get_dummies(df_sev['ADDRTYPE'])], axis=1)\n",
    "X = pd.concat([X, pd.get_dummies(df_sev['JUNCTIONTYPE'])], axis=1)\n",
    "X = pd.concat([X, pd.get_dummies(df_sev['WEATHER'])], axis=1)\n",
    "X = pd.concat([X, pd.get_dummies(df_sev['ROADCOND'])], axis=1)\n",
    "X = pd.concat([X, pd.get_dummies(df_sev['LIGHTCOND'])], axis=1)\n",
    "\n",
    "print(X.shape)\n",
    "X.head()"
   ]
  },
  {
   "cell_type": "code",
   "execution_count": 25,
   "metadata": {},
   "outputs": [
    {
     "data": {
      "text/plain": [
       "array([[ 1.28668708, -1.27015852,  0.22981187,  1.48272745,  0.25900713,\n",
       "        -0.06223095, -1.36876932,  1.41129279, -0.09996186, -0.10437651,\n",
       "         1.44892892, -0.2408193 , -0.36412936, -0.92535062, -0.18331232,\n",
       "        -0.02921369, -0.00679952, -0.01696304, -1.15340914, -0.05414257,\n",
       "        -0.06551471,  2.45445634, -0.00506801, -0.45298634, -0.011333  ,\n",
       "        -0.02409974, -0.06841713, -0.28988624, -0.163706  , -1.33213439,\n",
       "        -0.07905204, -0.01813462, -0.02604842, -0.01963186, -0.07200071,\n",
       "        -0.02431221, -0.28975087, -0.16256106,  1.76085874, -0.08920831,\n",
       "        -0.07872239, -0.576075  , -0.00751719, -0.1141037 ,  0.82233559,\n",
       "        -0.17682024, -0.03476509, -0.27267986, -0.1651723 ],\n",
       "       [-0.69338623,  0.85075741,  0.87758556,  1.48272745, -1.36653782,\n",
       "        -0.06223095,  0.73058329, -0.70857019, -0.09996186, -0.10437651,\n",
       "        -0.69016498, -0.2408193 , -0.36412936,  1.08067145, -0.18331232,\n",
       "        -0.02921369, -0.00679952, -0.01696304, -1.15340914, -0.05414257,\n",
       "        -0.06551471, -0.4074222 , -0.00506801,  2.2075721 , -0.011333  ,\n",
       "        -0.02409974, -0.06841713, -0.28988624, -0.163706  , -1.33213439,\n",
       "        -0.07905204, -0.01813462, -0.02604842, -0.01963186, -0.07200071,\n",
       "        -0.02431221, -0.28975087, -0.16256106,  1.76085874, -0.08920831,\n",
       "        -0.07872239,  1.73588509, -0.00751719, -0.1141037 , -1.21604855,\n",
       "        -0.17682024, -0.03476509, -0.27267986, -0.1651723 ],\n",
       "       [-0.69338623,  0.85075741,  0.22981187, -0.73496907,  0.25900713,\n",
       "        -0.06223095,  0.73058329, -0.70857019, -0.09996186, -0.10437651,\n",
       "        -0.69016498, -0.2408193 , -0.36412936,  1.08067145, -0.18331232,\n",
       "        -0.02921369, -0.00679952, -0.01696304, -1.15340914, -0.05414257,\n",
       "        -0.06551471,  2.45445634, -0.00506801, -0.45298634, -0.011333  ,\n",
       "        -0.02409974, -0.06841713, -0.28988624, -0.163706  ,  0.75067501,\n",
       "        -0.07905204, -0.01813462, -0.02604842, -0.01963186, -0.07200071,\n",
       "        -0.02431221, -0.28975087, -0.16256106, -0.56790473, -0.08920831,\n",
       "        -0.07872239, -0.576075  , -0.00751719, -0.1141037 ,  0.82233559,\n",
       "        -0.17682024, -0.03476509, -0.27267986, -0.1651723 ]])"
      ]
     },
     "execution_count": 25,
     "metadata": {},
     "output_type": "execute_result"
    }
   ],
   "source": [
    "X = preprocessing.StandardScaler().fit(X).transform(X)\n",
    "X[0:3]"
   ]
  },
  {
   "cell_type": "code",
   "execution_count": 26,
   "metadata": {},
   "outputs": [
    {
     "data": {
      "text/plain": [
       "array([1, 0, 0, 0, 1], dtype=int64)"
      ]
     },
     "execution_count": 26,
     "metadata": {},
     "output_type": "execute_result"
    }
   ],
   "source": [
    "y = df_sev['SEVERITYCODE'].values ## the 'df_coll_clean' dataframe is consistent with the 'features' dataframe\n",
    "                                            \n",
    "y[0:5]"
   ]
  },
  {
   "cell_type": "code",
   "execution_count": 27,
   "metadata": {},
   "outputs": [
    {
     "data": {
      "text/plain": [
       "0         1\n",
       "1         0\n",
       "2         0\n",
       "3         0\n",
       "4         1\n",
       "         ..\n",
       "194668    1\n",
       "194669    0\n",
       "194670    1\n",
       "194671    1\n",
       "194672    0\n",
       "Name: SEVERITYCODE, Length: 194673, dtype: int64"
      ]
     },
     "execution_count": 27,
     "metadata": {},
     "output_type": "execute_result"
    }
   ],
   "source": [
    "df_sev['SEVERITYCODE']"
   ]
  },
  {
   "cell_type": "markdown",
   "metadata": {},
   "source": [
    "# Modeling\n",
    "### Test-Train Data Split"
   ]
  },
  {
   "cell_type": "code",
   "execution_count": 28,
   "metadata": {},
   "outputs": [
    {
     "name": "stdout",
     "output_type": "stream",
     "text": [
      "Train set: (155738, 49) (155738,)\n",
      "Test set: (38935, 49) (38935,)\n"
     ]
    }
   ],
   "source": [
    "### Split the source data into TRAIN - TEST data sets\n",
    "\n",
    "X_train, X_test, y_train, y_test = train_test_split( X, y, test_size=0.2, random_state=42)\n",
    "print ('Train set:', X_train.shape,  y_train.shape)\n",
    "print ('Test set:', X_test.shape,  y_test.shape)"
   ]
  },
  {
   "cell_type": "markdown",
   "metadata": {},
   "source": [
    "### Modeling - K Nearest Neighbors"
   ]
  },
  {
   "cell_type": "code",
   "execution_count": 29,
   "metadata": {},
   "outputs": [
    {
     "name": "stdout",
     "output_type": "stream",
     "text": [
      "Part Train set: (8000, 49) (8000, 1)\n",
      "Part Test set: (2000, 49) (2000, 1)\n"
     ]
    }
   ],
   "source": [
    "X_train_part = pd.DataFrame(X_train).sample(n = 10000, random_state = 0)\n",
    "y_train_part = pd.DataFrame(y_train).sample(n = 10000, random_state = 0) \n",
    "\n",
    "X_train_part_train, X_train_part_test, y_train_part_train, y_train_part_test = \\\n",
    "                    train_test_split( X_train_part, y_train_part, test_size=0.2, random_state=42)\n",
    "\n",
    "print ('Part Train set:', X_train_part_train.shape,  y_train_part_train.shape)\n",
    "print ('Part Test set:', X_train_part_test.shape,  y_train_part_test.shape)"
   ]
  },
  {
   "cell_type": "code",
   "execution_count": 30,
   "metadata": {},
   "outputs": [
    {
     "name": "stdout",
     "output_type": "stream",
     "text": [
      "The mean accuracy array is: [0.5235 0.672  0.6365 0.6575 0.653  0.658  0.632  0.6625 0.655  0.6625\n",
      " 0.667  0.6645 0.6685 0.674  0.6705 0.6825 0.681  0.6765 0.6765 0.6785\n",
      " 0.683  0.679  0.683  0.684  0.6845 0.681  0.679  0.6875 0.6745]\n",
      "\n",
      "The maximum mean accuracy value is: 0.6875\n",
      "\n",
      "The best model is the model with k-value =  28\n"
     ]
    }
   ],
   "source": [
    "Ks = 30\n",
    "mean_acc = np.zeros((Ks-1))\n",
    "\n",
    "for n in range(1,Ks):\n",
    "     \n",
    "    neigh = KNeighborsClassifier(n_neighbors = n).fit(X_train_part_train, np.ravel(y_train_part_train))\n",
    "    yhat = neigh.predict(X_train_part_test)\n",
    "    mean_acc[n-1] = metrics.accuracy_score(y_train_part_test, yhat)\n",
    "\n",
    "\n",
    "print(\"The mean accuracy array is:\", mean_acc)\n",
    "print(\"\\nThe maximum mean accuracy value is:\", mean_acc.max())\n",
    "\n",
    "k = list(mean_acc).index(mean_acc.max()) + 1\n",
    "print(\"\\nThe best model is the model with k-value = \", k)"
   ]
  },
  {
   "cell_type": "code",
   "execution_count": 31,
   "metadata": {},
   "outputs": [
    {
     "data": {
      "text/plain": [
       "KNeighborsClassifier(n_neighbors=28)"
      ]
     },
     "execution_count": 31,
     "metadata": {},
     "output_type": "execute_result"
    }
   ],
   "source": [
    "KNN = KNeighborsClassifier(n_neighbors = k).fit(X_train, y_train) ## This takes about 2.5 minutes on an Intel i5-9300H processor\n",
    "KNN"
   ]
  },
  {
   "cell_type": "markdown",
   "metadata": {},
   "source": [
    "### Modeling - Decision Tree"
   ]
  },
  {
   "cell_type": "code",
   "execution_count": 32,
   "metadata": {},
   "outputs": [
    {
     "name": "stdout",
     "output_type": "stream",
     "text": [
      "Part Train set: (124590, 49) (124590,)\n",
      "Part Test set: (31148, 49) (31148,)\n"
     ]
    }
   ],
   "source": [
    "X_train_train, X_train_test, y_train_train, y_train_test = \\\n",
    "                    train_test_split( X_train, y_train, test_size=0.2, random_state=0)\n",
    "\n",
    "print ('Part Train set:', X_train_train.shape,  y_train_train.shape)\n",
    "print ('Part Test set:', X_train_test.shape,  y_train_test.shape)"
   ]
  },
  {
   "cell_type": "code",
   "execution_count": 33,
   "metadata": {},
   "outputs": [
    {
     "name": "stdout",
     "output_type": "stream",
     "text": [
      "The mean accuracy array is: [0.69853602 0.69847181 0.69850392 0.69850392 0.69853602 0.69853602\n",
      " 0.69853602 0.69847181 0.69853602 0.69860023 0.69853602 0.69850392\n",
      " 0.69843971 0.69847181 0.69843971 0.69843971 0.69853602]\n",
      "\n",
      "The maximum mean accuracy value is: 0.6986002311544882\n",
      "\n",
      "The best model is the model with max_depth =  13\n"
     ]
    }
   ],
   "source": [
    "depth = 21\n",
    "mean_acc1 = np.zeros((depth - 4))\n",
    "\n",
    "for n in range(4, depth):\n",
    "    \n",
    "    tree = DecisionTreeClassifier(criterion = 'entropy', max_depth = depth).fit(X_train_train, y_train_train)\n",
    "    yhat = tree.predict(X_train_test)\n",
    "    mean_acc1[n-4] = metrics.accuracy_score(y_train_test, yhat)\n",
    "\n",
    "\n",
    "print(\"The mean accuracy array is:\", mean_acc1)\n",
    "print(\"\\nThe maximum mean accuracy value is:\", mean_acc1.max())\n",
    "\n",
    "max_depth = list(mean_acc1).index(mean_acc1.max()) + 4\n",
    "print(\"\\nThe best model is the model with max_depth = \", max_depth)"
   ]
  },
  {
   "cell_type": "code",
   "execution_count": 34,
   "metadata": {},
   "outputs": [
    {
     "data": {
      "text/plain": [
       "DecisionTreeClassifier(criterion='entropy', max_depth=13)"
      ]
     },
     "execution_count": 34,
     "metadata": {},
     "output_type": "execute_result"
    }
   ],
   "source": [
    "severityTree = DecisionTreeClassifier(criterion = 'entropy', max_depth = max_depth).fit(X_train, y_train)\n",
    "severityTree"
   ]
  },
  {
   "cell_type": "markdown",
   "metadata": {},
   "source": [
    "### Modeling - Logistic Regression"
   ]
  },
  {
   "cell_type": "code",
   "execution_count": 35,
   "metadata": {},
   "outputs": [
    {
     "name": "stdout",
     "output_type": "stream",
     "text": [
      "Part Train set: (800, 49) (800, 1)\n",
      "Part Test set: (200, 49) (200, 1)\n"
     ]
    }
   ],
   "source": [
    "X_train_part = pd.DataFrame(X_train).sample(n = 1000, random_state = 0)\n",
    "y_train_part = pd.DataFrame(y_train).sample(n = 1000, random_state = 0) # keeping it consistent with X_train_part by using the\n",
    "                                                                        # same seed for ramdom_state as in X_train_part\n",
    "\n",
    "X_train_part_train, X_train_part_test, y_train_part_train, y_train_part_test = \\\n",
    "                    train_test_split( X_train_part, y_train_part, test_size=0.2, random_state=42)\n",
    "\n",
    "print ('Part Train set:', X_train_part_train.shape,  y_train_part_train.shape)\n",
    "print ('Part Test set:', X_train_part_test.shape,  y_train_part_test.shape)"
   ]
  },
  {
   "cell_type": "code",
   "execution_count": 36,
   "metadata": {},
   "outputs": [
    {
     "name": "stdout",
     "output_type": "stream",
     "text": [
      "mean accuracy array: [0.695 0.695 0.695 0.695 0.695]\n",
      "\n",
      "maximum mean accuracy value: 0.695\n"
     ]
    }
   ],
   "source": [
    "solvers = ['newton-cg', 'lbfgs', 'liblinear', 'sag', 'saga']\n",
    "mean_acc2 = np.zeros((len(solvers)))\n",
    "\n",
    "for i in range(len(solvers)):\n",
    "    LR = LogisticRegression(C=0.01, solver=solvers[i]).fit(X_train_part_train,np.ravel(y_train_part_train))\n",
    "    yhat = LR.predict(X_train_part_test)\n",
    "    mean_acc2[i] = metrics.accuracy_score(y_train_part_test, yhat)\n",
    "    \n",
    "print(\"mean accuracy array:\", mean_acc2)\n",
    "print(\"\\nmaximum mean accuracy value:\", mean_acc2.max())"
   ]
  },
  {
   "cell_type": "code",
   "execution_count": 37,
   "metadata": {},
   "outputs": [
    {
     "data": {
      "text/plain": [
       "LogisticRegression(C=0.01)"
      ]
     },
     "execution_count": 37,
     "metadata": {},
     "output_type": "execute_result"
    }
   ],
   "source": [
    "LR_final = LogisticRegression(C=0.01).fit(X_train, y_train)\n",
    "LR_final"
   ]
  },
  {
   "cell_type": "markdown",
   "metadata": {},
   "source": [
    "## Model Evaluation"
   ]
  },
  {
   "cell_type": "code",
   "execution_count": 38,
   "metadata": {},
   "outputs": [
    {
     "name": "stdout",
     "output_type": "stream",
     "text": [
      "Jaccard Index of KNN model is: 0.5009350454379481\n",
      "\n",
      " The F1-score for KNN model is: 0.5991147243368953\n",
      "\n",
      " The subset accuracy score for KNN model is: 0.699113907795043\n"
     ]
    }
   ],
   "source": [
    "# Model Evaluation - K Nearest Neighbors\n",
    "\n",
    "yhat_KNN = KNN.predict(X_test) \n",
    "\n",
    "KNN_jacc = jaccard_score(y_test, yhat_KNN, average = 'weighted')\n",
    "print(\"Jaccard Index of KNN model is:\", KNN_jacc)\n",
    "\n",
    "KNN_f1 = f1_score(y_test, yhat_KNN, average='weighted')\n",
    "print(\"\\n The F1-score for KNN model is:\", KNN_f1)\n",
    "\n",
    "KNN_acc = accuracy_score(y_test, yhat_KNN)\n",
    "print(\"\\n The subset accuracy score for KNN model is:\", KNN_acc)"
   ]
  },
  {
   "cell_type": "code",
   "execution_count": 39,
   "metadata": {},
   "outputs": [
    {
     "name": "stdout",
     "output_type": "stream",
     "text": [
      "Jaccard accuracy score for the Logistic Regression model: 0.4960864217799276\n",
      "\n",
      "F1_score for the Logistic Regression model: 0.5822881020258832\n",
      "\n",
      " Subset accuracy score for the Logistic Regression model: 0.7041993065365353\n",
      "\n",
      "Log Loss for the Logistic Regression model: 0.567210060737418\n"
     ]
    }
   ],
   "source": [
    "# Model Evaluation - Logistic Regression\n",
    "\n",
    "yhat_LR_final = LR_final.predict(X_test)\n",
    "yhat_LR_final_prob = LR_final.predict_proba(X_test)\n",
    "\n",
    "LR_jacc = jaccard_score(y_test, yhat_LR_final, average = 'weighted')\n",
    "print(\"Jaccard accuracy score for the Logistic Regression model:\", LR_jacc)\n",
    "\n",
    "LR_f1 = f1_score(y_test, yhat_LR_final, average='weighted')\n",
    "print(\"\\nF1_score for the Logistic Regression model:\", LR_f1)\n",
    "\n",
    "LR_acc = accuracy_score(y_test, yhat_LR_final)\n",
    "print(\"\\n Subset accuracy score for the Logistic Regression model:\", LR_acc)\n",
    "\n",
    "LR_logloss = log_loss(y_test, yhat_LR_final_prob)\n",
    "print(\"\\nLog Loss for the Logistic Regression model:\", LR_logloss)"
   ]
  },
  {
   "cell_type": "code",
   "execution_count": 40,
   "metadata": {},
   "outputs": [
    {
     "name": "stdout",
     "output_type": "stream",
     "text": [
      "The Jaccard accuracy score for the Decision Tree model is: 0.4969020971593654\n",
      "\n",
      "The F1_score for the Decision Tree model is: 0.5846405160496333\n",
      "\n",
      "The subset accuracy score for the Decision Tree model is: 0.7038140490561192\n"
     ]
    }
   ],
   "source": [
    "# Model Evaluation - Decission Tree\n",
    "\n",
    "yhat_severityTree = severityTree.predict(X_test)\n",
    "DT_jacc = jaccard_score(y_test, yhat_severityTree, average = 'weighted')\n",
    "print(\"The Jaccard accuracy score for the Decision Tree model is:\", DT_jacc)\n",
    "\n",
    "DT_f1 = f1_score(y_test, yhat_severityTree, average='weighted')\n",
    "print(\"\\nThe F1_score for the Decision Tree model is:\", DT_f1)\n",
    "\n",
    "DT_acc = accuracy_score(y_test, yhat_severityTree)\n",
    "print(\"\\nThe subset accuracy score for the Decision Tree model is:\", DT_acc)"
   ]
  },
  {
   "cell_type": "markdown",
   "metadata": {},
   "source": [
    "## Summary of the Accuracy scores of the different models"
   ]
  },
  {
   "cell_type": "code",
   "execution_count": 41,
   "metadata": {},
   "outputs": [
    {
     "data": {
      "text/html": [
       "<div>\n",
       "<style scoped>\n",
       "    .dataframe tbody tr th:only-of-type {\n",
       "        vertical-align: middle;\n",
       "    }\n",
       "\n",
       "    .dataframe tbody tr th {\n",
       "        vertical-align: top;\n",
       "    }\n",
       "\n",
       "    .dataframe thead th {\n",
       "        text-align: right;\n",
       "    }\n",
       "</style>\n",
       "<table border=\"1\" class=\"dataframe\">\n",
       "  <thead>\n",
       "    <tr style=\"text-align: right;\">\n",
       "      <th></th>\n",
       "      <th>Jaccard Score</th>\n",
       "      <th>F1-score</th>\n",
       "      <th>Subset Accuracy Score</th>\n",
       "      <th>Log Loss</th>\n",
       "    </tr>\n",
       "    <tr>\n",
       "      <th></th>\n",
       "      <th></th>\n",
       "      <th></th>\n",
       "      <th></th>\n",
       "      <th></th>\n",
       "    </tr>\n",
       "  </thead>\n",
       "  <tbody>\n",
       "    <tr>\n",
       "      <th>K Nearest Neighbors</th>\n",
       "      <td>0.500935</td>\n",
       "      <td>0.599115</td>\n",
       "      <td>0.699114</td>\n",
       "      <td>NA</td>\n",
       "    </tr>\n",
       "    <tr>\n",
       "      <th>Decision Tree</th>\n",
       "      <td>0.496902</td>\n",
       "      <td>0.584641</td>\n",
       "      <td>0.703814</td>\n",
       "      <td>NA</td>\n",
       "    </tr>\n",
       "    <tr>\n",
       "      <th>Logistic Regression</th>\n",
       "      <td>0.496086</td>\n",
       "      <td>0.582288</td>\n",
       "      <td>0.704199</td>\n",
       "      <td>0.56721</td>\n",
       "    </tr>\n",
       "  </tbody>\n",
       "</table>\n",
       "</div>"
      ],
      "text/plain": [
       "                     Jaccard Score  F1-score  Subset Accuracy Score Log Loss\n",
       "                                                                            \n",
       "K Nearest Neighbors       0.500935  0.599115               0.699114       NA\n",
       "Decision Tree             0.496902  0.584641               0.703814       NA\n",
       "Logistic Regression       0.496086  0.582288               0.704199  0.56721"
      ]
     },
     "execution_count": 41,
     "metadata": {},
     "output_type": "execute_result"
    }
   ],
   "source": [
    "scores_dict = {'': ['K Nearest Neighbors','Decision Tree','Logistic Regression'], \\\n",
    "               'Jaccard Score': [KNN_jacc, DT_jacc, LR_jacc], \\\n",
    "               'F1-score': [KNN_f1, DT_f1, LR_f1], \\\n",
    "               'Subset Accuracy Score': [KNN_acc, DT_acc, LR_acc], \\\n",
    "               'Log Loss': ['NA','NA', LR_logloss] }\n",
    "\n",
    "scores_Report = pd.DataFrame.from_dict(scores_dict)\n",
    "\n",
    "scores_Report.set_index('', drop = True, inplace = True)\n",
    "\n",
    "scores_Report"
   ]
  }
 ],
 "metadata": {
  "kernelspec": {
   "display_name": "Python 3",
   "language": "python",
   "name": "python3"
  },
  "language_info": {
   "codemirror_mode": {
    "name": "ipython",
    "version": 3
   },
   "file_extension": ".py",
   "mimetype": "text/x-python",
   "name": "python",
   "nbconvert_exporter": "python",
   "pygments_lexer": "ipython3",
   "version": "3.8.3"
  }
 },
 "nbformat": 4,
 "nbformat_minor": 4
}
