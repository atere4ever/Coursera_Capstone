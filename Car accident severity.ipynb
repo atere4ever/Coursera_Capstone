{
 "cells": [
  {
   "cell_type": "markdown",
   "metadata": {},
   "source": [
    "# Capstone Project - Car Accident Severity"
   ]
  },
  {
   "cell_type": "code",
   "execution_count": 23,
   "metadata": {},
   "outputs": [
    {
     "ename": "ModuleNotFoundError",
     "evalue": "No module named 'imblearn'",
     "output_type": "error",
     "traceback": [
      "\u001b[1;31m---------------------------------------------------------------------------\u001b[0m",
      "\u001b[1;31mModuleNotFoundError\u001b[0m                       Traceback (most recent call last)",
      "\u001b[1;32m<ipython-input-23-588dcaf4c454>\u001b[0m in \u001b[0;36m<module>\u001b[1;34m\u001b[0m\n\u001b[0;32m     39\u001b[0m \u001b[1;31m# libraries for data resampling\u001b[0m\u001b[1;33m\u001b[0m\u001b[1;33m\u001b[0m\u001b[1;33m\u001b[0m\u001b[0m\n\u001b[0;32m     40\u001b[0m \u001b[1;31m# conda install -c conda-forge imbalanced-learn\u001b[0m\u001b[1;33m\u001b[0m\u001b[1;33m\u001b[0m\u001b[1;33m\u001b[0m\u001b[0m\n\u001b[1;32m---> 41\u001b[1;33m \u001b[1;32mfrom\u001b[0m \u001b[0mimblearn\u001b[0m\u001b[1;33m.\u001b[0m\u001b[0mover_sampling\u001b[0m \u001b[1;32mimport\u001b[0m \u001b[0mRandomOverSampler\u001b[0m\u001b[1;33m\u001b[0m\u001b[1;33m\u001b[0m\u001b[0m\n\u001b[0m\u001b[0;32m     42\u001b[0m \u001b[1;32mfrom\u001b[0m \u001b[0mimblearn\u001b[0m\u001b[1;33m.\u001b[0m\u001b[0munder_sampling\u001b[0m \u001b[1;32mimport\u001b[0m \u001b[0mRandomUnderSampler\u001b[0m\u001b[1;33m\u001b[0m\u001b[1;33m\u001b[0m\u001b[0m\n",
      "\u001b[1;31mModuleNotFoundError\u001b[0m: No module named 'imblearn'"
     ]
    }
   ],
   "source": [
    "# import relevant libraries\n",
    "import pandas as pd\n",
    "import numpy as np\n",
    "from numpy import mean\n",
    "from numpy import std\n",
    "\n",
    "# libraries for downloading csv file\n",
    "import csv\n",
    "import requests\n",
    "import itertools\n",
    "\n",
    "# libraries for visualisation\n",
    "import seaborn as sns\n",
    "import matplotlib\n",
    "import matplotlib.pyplot as plt\n",
    "import matplotlib.ticker as ticker\n",
    "from matplotlib.ticker import NullFormatter\n",
    "\n",
    "# libraries from sklearn\n",
    "from sklearn import metrics\n",
    "from sklearn.metrics import jaccard_score\n",
    "from sklearn.metrics import f1_score\n",
    "from sklearn.metrics import precision_score\n",
    "from sklearn.metrics import recall_score\n",
    "from sklearn import preprocessing\n",
    "%matplotlib inline\n",
    "\n",
    "from sklearn.preprocessing import LabelEncoder\n",
    "from sklearn.preprocessing import StandardScaler\n",
    "\n",
    "from sklearn.model_selection import train_test_split\n",
    "from sklearn.model_selection import cross_val_score\n",
    "from sklearn.model_selection import RepeatedStratifiedKFold\n",
    "\n",
    "from sklearn.ensemble import GradientBoostingClassifier\n",
    "from sklearn.ensemble import RandomForestClassifier\n",
    "from sklearn.linear_model import LogisticRegression\n",
    "\n",
    "# libraries for data resampling\n",
    "# conda install -c conda-forge imbalanced-learn\n",
    "from imblearn.over_sampling import RandomOverSampler\n",
    "from imblearn.under_sampling import RandomUnderSampler\n"
   ]
  },
  {
   "cell_type": "code",
   "execution_count": 25,
   "metadata": {},
   "outputs": [
    {
     "name": "stderr",
     "output_type": "stream",
     "text": [
      "C:\\Users\\atereo01\\Anaconda3\\lib\\site-packages\\IPython\\core\\interactiveshell.py:3071: DtypeWarning: Columns (33) have mixed types.Specify dtype option on import or set low_memory=False.\n",
      "  has_raised = await self.run_ast_nodes(code_ast.body, cell_name,\n"
     ]
    }
   ],
   "source": [
    "# load as pandas dataframe\n",
    "df = pd.read_csv(\"https://s3.us.cloud-object-storage.appdomain.cloud/cf-courses-data/CognitiveClass/DP0701EN/version-2/Data-Collisions.csv\")\n"
   ]
  },
  {
   "cell_type": "code",
   "execution_count": 22,
   "metadata": {
    "scrolled": false
   },
   "outputs": [
    {
     "data": {
      "text/html": [
       "<div>\n",
       "<style scoped>\n",
       "    .dataframe tbody tr th:only-of-type {\n",
       "        vertical-align: middle;\n",
       "    }\n",
       "\n",
       "    .dataframe tbody tr th {\n",
       "        vertical-align: top;\n",
       "    }\n",
       "\n",
       "    .dataframe thead th {\n",
       "        text-align: right;\n",
       "    }\n",
       "</style>\n",
       "<table border=\"1\" class=\"dataframe\">\n",
       "  <thead>\n",
       "    <tr style=\"text-align: right;\">\n",
       "      <th></th>\n",
       "      <th>SEVERITYCODE</th>\n",
       "      <th>X</th>\n",
       "      <th>Y</th>\n",
       "      <th>OBJECTID</th>\n",
       "      <th>INCKEY</th>\n",
       "      <th>COLDETKEY</th>\n",
       "      <th>REPORTNO</th>\n",
       "      <th>STATUS</th>\n",
       "      <th>ADDRTYPE</th>\n",
       "      <th>INTKEY</th>\n",
       "      <th>...</th>\n",
       "      <th>ROADCOND</th>\n",
       "      <th>LIGHTCOND</th>\n",
       "      <th>PEDROWNOTGRNT</th>\n",
       "      <th>SDOTCOLNUM</th>\n",
       "      <th>SPEEDING</th>\n",
       "      <th>ST_COLCODE</th>\n",
       "      <th>ST_COLDESC</th>\n",
       "      <th>SEGLANEKEY</th>\n",
       "      <th>CROSSWALKKEY</th>\n",
       "      <th>HITPARKEDCAR</th>\n",
       "    </tr>\n",
       "  </thead>\n",
       "  <tbody>\n",
       "    <tr>\n",
       "      <th>0</th>\n",
       "      <td>2</td>\n",
       "      <td>-122.323148</td>\n",
       "      <td>47.703140</td>\n",
       "      <td>1</td>\n",
       "      <td>1307</td>\n",
       "      <td>1307</td>\n",
       "      <td>3502005</td>\n",
       "      <td>Matched</td>\n",
       "      <td>Intersection</td>\n",
       "      <td>37475.0</td>\n",
       "      <td>...</td>\n",
       "      <td>Wet</td>\n",
       "      <td>Daylight</td>\n",
       "      <td>NaN</td>\n",
       "      <td>NaN</td>\n",
       "      <td>NaN</td>\n",
       "      <td>10</td>\n",
       "      <td>Entering at angle</td>\n",
       "      <td>0</td>\n",
       "      <td>0</td>\n",
       "      <td>N</td>\n",
       "    </tr>\n",
       "    <tr>\n",
       "      <th>1</th>\n",
       "      <td>1</td>\n",
       "      <td>-122.347294</td>\n",
       "      <td>47.647172</td>\n",
       "      <td>2</td>\n",
       "      <td>52200</td>\n",
       "      <td>52200</td>\n",
       "      <td>2607959</td>\n",
       "      <td>Matched</td>\n",
       "      <td>Block</td>\n",
       "      <td>NaN</td>\n",
       "      <td>...</td>\n",
       "      <td>Wet</td>\n",
       "      <td>Dark - Street Lights On</td>\n",
       "      <td>NaN</td>\n",
       "      <td>6354039.0</td>\n",
       "      <td>NaN</td>\n",
       "      <td>11</td>\n",
       "      <td>From same direction - both going straight - bo...</td>\n",
       "      <td>0</td>\n",
       "      <td>0</td>\n",
       "      <td>N</td>\n",
       "    </tr>\n",
       "    <tr>\n",
       "      <th>2</th>\n",
       "      <td>1</td>\n",
       "      <td>-122.334540</td>\n",
       "      <td>47.607871</td>\n",
       "      <td>3</td>\n",
       "      <td>26700</td>\n",
       "      <td>26700</td>\n",
       "      <td>1482393</td>\n",
       "      <td>Matched</td>\n",
       "      <td>Block</td>\n",
       "      <td>NaN</td>\n",
       "      <td>...</td>\n",
       "      <td>Dry</td>\n",
       "      <td>Daylight</td>\n",
       "      <td>NaN</td>\n",
       "      <td>4323031.0</td>\n",
       "      <td>NaN</td>\n",
       "      <td>32</td>\n",
       "      <td>One parked--one moving</td>\n",
       "      <td>0</td>\n",
       "      <td>0</td>\n",
       "      <td>N</td>\n",
       "    </tr>\n",
       "  </tbody>\n",
       "</table>\n",
       "<p>3 rows × 38 columns</p>\n",
       "</div>"
      ],
      "text/plain": [
       "   SEVERITYCODE           X          Y  OBJECTID  INCKEY  COLDETKEY REPORTNO  \\\n",
       "0             2 -122.323148  47.703140         1    1307       1307  3502005   \n",
       "1             1 -122.347294  47.647172         2   52200      52200  2607959   \n",
       "2             1 -122.334540  47.607871         3   26700      26700  1482393   \n",
       "\n",
       "    STATUS      ADDRTYPE   INTKEY  ... ROADCOND                LIGHTCOND  \\\n",
       "0  Matched  Intersection  37475.0  ...      Wet                 Daylight   \n",
       "1  Matched         Block      NaN  ...      Wet  Dark - Street Lights On   \n",
       "2  Matched         Block      NaN  ...      Dry                 Daylight   \n",
       "\n",
       "  PEDROWNOTGRNT  SDOTCOLNUM SPEEDING ST_COLCODE  \\\n",
       "0           NaN         NaN      NaN         10   \n",
       "1           NaN   6354039.0      NaN         11   \n",
       "2           NaN   4323031.0      NaN         32   \n",
       "\n",
       "                                          ST_COLDESC  SEGLANEKEY  \\\n",
       "0                                  Entering at angle           0   \n",
       "1  From same direction - both going straight - bo...           0   \n",
       "2                             One parked--one moving           0   \n",
       "\n",
       "   CROSSWALKKEY  HITPARKEDCAR  \n",
       "0             0             N  \n",
       "1             0             N  \n",
       "2             0             N  \n",
       "\n",
       "[3 rows x 38 columns]"
      ]
     },
     "execution_count": 22,
     "metadata": {},
     "output_type": "execute_result"
    }
   ],
   "source": [
    "df.head(3)"
   ]
  },
  {
   "cell_type": "code",
   "execution_count": 24,
   "metadata": {},
   "outputs": [
    {
     "data": {
      "text/plain": [
       "Index(['SEVERITYCODE', 'X', 'Y', 'OBJECTID', 'INCKEY', 'COLDETKEY', 'REPORTNO',\n",
       "       'STATUS', 'ADDRTYPE', 'INTKEY', 'LOCATION', 'EXCEPTRSNCODE',\n",
       "       'EXCEPTRSNDESC', 'SEVERITYCODE.1', 'SEVERITYDESC', 'COLLISIONTYPE',\n",
       "       'PERSONCOUNT', 'PEDCOUNT', 'PEDCYLCOUNT', 'VEHCOUNT', 'INCDATE',\n",
       "       'INCDTTM', 'JUNCTIONTYPE', 'SDOT_COLCODE', 'SDOT_COLDESC',\n",
       "       'INATTENTIONIND', 'UNDERINFL', 'WEATHER', 'ROADCOND', 'LIGHTCOND',\n",
       "       'PEDROWNOTGRNT', 'SDOTCOLNUM', 'SPEEDING', 'ST_COLCODE', 'ST_COLDESC',\n",
       "       'SEGLANEKEY', 'CROSSWALKKEY', 'HITPARKEDCAR'],\n",
       "      dtype='object')"
      ]
     },
     "execution_count": 24,
     "metadata": {},
     "output_type": "execute_result"
    }
   ],
   "source": [
    "df.columns"
   ]
  },
  {
   "cell_type": "code",
   "execution_count": 26,
   "metadata": {},
   "outputs": [
    {
     "data": {
      "text/plain": [
       "SEVERITYCODE        int64\n",
       "X                 float64\n",
       "Y                 float64\n",
       "OBJECTID            int64\n",
       "INCKEY              int64\n",
       "COLDETKEY           int64\n",
       "REPORTNO           object\n",
       "STATUS             object\n",
       "ADDRTYPE           object\n",
       "INTKEY            float64\n",
       "LOCATION           object\n",
       "EXCEPTRSNCODE      object\n",
       "EXCEPTRSNDESC      object\n",
       "SEVERITYCODE.1      int64\n",
       "SEVERITYDESC       object\n",
       "COLLISIONTYPE      object\n",
       "PERSONCOUNT         int64\n",
       "PEDCOUNT            int64\n",
       "PEDCYLCOUNT         int64\n",
       "VEHCOUNT            int64\n",
       "INCDATE            object\n",
       "INCDTTM            object\n",
       "JUNCTIONTYPE       object\n",
       "SDOT_COLCODE        int64\n",
       "SDOT_COLDESC       object\n",
       "INATTENTIONIND     object\n",
       "UNDERINFL          object\n",
       "WEATHER            object\n",
       "ROADCOND           object\n",
       "LIGHTCOND          object\n",
       "PEDROWNOTGRNT      object\n",
       "SDOTCOLNUM        float64\n",
       "SPEEDING           object\n",
       "ST_COLCODE         object\n",
       "ST_COLDESC         object\n",
       "SEGLANEKEY          int64\n",
       "CROSSWALKKEY        int64\n",
       "HITPARKEDCAR       object\n",
       "dtype: object"
      ]
     },
     "execution_count": 26,
     "metadata": {},
     "output_type": "execute_result"
    }
   ],
   "source": [
    "df.dtypes"
   ]
  },
  {
   "cell_type": "code",
   "execution_count": 27,
   "metadata": {},
   "outputs": [
    {
     "data": {
      "text/plain": [
       "SEVERITYCODE  SEVERITYDESC                  \n",
       "1             Property Damage Only Collision    136485\n",
       "2             Injury Collision                   58188\n",
       "Name: SEVERITYDESC, dtype: int64"
      ]
     },
     "execution_count": 27,
     "metadata": {},
     "output_type": "execute_result"
    }
   ],
   "source": [
    "df.groupby('SEVERITYCODE')['SEVERITYDESC'].value_counts()"
   ]
  },
  {
   "cell_type": "code",
   "execution_count": 13,
   "metadata": {},
   "outputs": [
    {
     "data": {
      "text/html": [
       "<div>\n",
       "<style scoped>\n",
       "    .dataframe tbody tr th:only-of-type {\n",
       "        vertical-align: middle;\n",
       "    }\n",
       "\n",
       "    .dataframe tbody tr th {\n",
       "        vertical-align: top;\n",
       "    }\n",
       "\n",
       "    .dataframe thead th {\n",
       "        text-align: right;\n",
       "    }\n",
       "</style>\n",
       "<table border=\"1\" class=\"dataframe\">\n",
       "  <thead>\n",
       "    <tr style=\"text-align: right;\">\n",
       "      <th></th>\n",
       "      <th>SEVERITYDESC</th>\n",
       "    </tr>\n",
       "  </thead>\n",
       "  <tbody>\n",
       "    <tr>\n",
       "      <th>Property Damage Only Collision</th>\n",
       "      <td>136485</td>\n",
       "    </tr>\n",
       "    <tr>\n",
       "      <th>Injury Collision</th>\n",
       "      <td>58188</td>\n",
       "    </tr>\n",
       "  </tbody>\n",
       "</table>\n",
       "</div>"
      ],
      "text/plain": [
       "                                SEVERITYDESC\n",
       "Property Damage Only Collision        136485\n",
       "Injury Collision                       58188"
      ]
     },
     "execution_count": 13,
     "metadata": {},
     "output_type": "execute_result"
    }
   ],
   "source": [
    "df['SEVERITYDESC'].value_counts().to_frame() # choosing columns to use from the dataframe"
   ]
  },
  {
   "cell_type": "code",
   "execution_count": 28,
   "metadata": {},
   "outputs": [
    {
     "name": "stdout",
     "output_type": "stream",
     "text": [
      "[ 23807.  23808.  23811. ... 725404. 757580.     nan]\n",
      "7615\n"
     ]
    }
   ],
   "source": [
    "# exploring INTKEY unique values and counts\n",
    "print(np.sort(df['INTKEY'].unique()))\n",
    "print(len(df['INTKEY'].unique()))"
   ]
  },
  {
   "cell_type": "code",
   "execution_count": 29,
   "metadata": {},
   "outputs": [
    {
     "data": {
      "text/plain": [
       "ADDRTYPE      JUNCTIONTYPE                                     \n",
       "Alley         Mid-Block (not related to intersection)                176\n",
       "              Driveway Junction                                       59\n",
       "              At Intersection (but not related to intersection)        1\n",
       "Block         Mid-Block (not related to intersection)              89330\n",
       "              Mid-Block (but intersection related)                 22774\n",
       "              Driveway Junction                                    10611\n",
       "              Ramp Junction                                          133\n",
       "              At Intersection (intersection related)                   4\n",
       "              Unknown                                                  4\n",
       "              At Intersection (but not related to intersection)        1\n",
       "Intersection  At Intersection (intersection related)               62782\n",
       "              At Intersection (but not related to intersection)     2094\n",
       "              Ramp Junction                                           31\n",
       "              Mid-Block (not related to intersection)                 11\n",
       "              Unknown                                                  2\n",
       "              Mid-Block (but intersection related)                     1\n",
       "Name: JUNCTIONTYPE, dtype: int64"
      ]
     },
     "execution_count": 29,
     "metadata": {},
     "output_type": "execute_result"
    }
   ],
   "source": [
    "# exploring junctiontype and addrtype relationship\n",
    "df.groupby('ADDRTYPE')['JUNCTIONTYPE'].value_counts()"
   ]
  },
  {
   "cell_type": "code",
   "execution_count": 30,
   "metadata": {},
   "outputs": [
    {
     "data": {
      "text/plain": [
       "0         190862\n",
       "523609        17\n",
       "520838        15\n",
       "525567        13\n",
       "521707        10\n",
       "           ...  \n",
       "521019         1\n",
       "630862         1\n",
       "25545          1\n",
       "523322         1\n",
       "27186          1\n",
       "Name: CROSSWALKKEY, Length: 2198, dtype: int64"
      ]
     },
     "execution_count": 30,
     "metadata": {},
     "output_type": "execute_result"
    }
   ],
   "source": [
    "# exploring crosswalkkey value counts\n",
    "df['CROSSWALKKEY'].value_counts()"
   ]
  },
  {
   "cell_type": "code",
   "execution_count": 31,
   "metadata": {},
   "outputs": [
    {
     "name": "stdout",
     "output_type": "stream",
     "text": [
      "               NON_ZERO_CROSSWALKKEY_COUNT  ZERO_CROSSWALKKEY_COUNT\n",
      "COLLISIONTYPE                                                      \n",
      "Angles                                   8                    34666\n",
      "Cycles                                 627                     4788\n",
      "Left Turn                                5                    13698\n",
      "Other                                    4                    23699\n",
      "Parked Car                               1                    47986\n",
      "Pedestrian                            3104                     3504\n",
      "Rear Ended                              10                    34080\n",
      "Right Turn                               2                     2954\n",
      "Sideswipe                                2                    18607\n"
     ]
    },
    {
     "data": {
      "image/png": "[encoded data removed]",
      "text/plain": [
       "<Figure size 432x288 with 1 Axes>"
      ]
     },
     "metadata": {
      "needs_background": "light"
     },
     "output_type": "display_data"
    }
   ],
   "source": [
    "# filtering out CROSSWALKKEY according to non-zero and zero values, grouped by COLLISIONTYPE\n",
    "del_df1 = df[df['CROSSWALKKEY'] !=0].groupby('COLLISIONTYPE').size().to_frame('NON_ZERO_CROSSWALKKEY_COUNT')\n",
    "del_df2 = df[df['CROSSWALKKEY'] ==0].groupby('COLLISIONTYPE').size().to_frame('ZERO_CROSSWALKKEY_COUNT')\n",
    "\n",
    "# merging 2 dfs and normalising along columns\n",
    "del_df1 = pd.merge(del_df1, del_df2, on='COLLISIONTYPE')\n",
    "print(del_df1)\n",
    "del_df1 = (del_df1/del_df1.sum()).reset_index()\n",
    "\n",
    "# plot \n",
    "del_df1.plot(x='COLLISIONTYPE', kind='bar')\n",
    "\n",
    "plt.show()"
   ]
  },
  {
   "cell_type": "code",
   "execution_count": 32,
   "metadata": {},
   "outputs": [
    {
     "data": {
      "text/plain": [
       "0         191907\n",
       "6532          19\n",
       "6078          16\n",
       "12162         15\n",
       "10336         14\n",
       "           ...  \n",
       "35157          1\n",
       "10817          1\n",
       "15043          1\n",
       "525169         1\n",
       "16376          1\n",
       "Name: SEGLANEKEY, Length: 1955, dtype: int64"
      ]
     },
     "execution_count": 32,
     "metadata": {},
     "output_type": "execute_result"
    }
   ],
   "source": [
    "# exploring SEGLANEKEY values\n",
    "df['SEGLANEKEY'].value_counts()"
   ]
  },
  {
   "cell_type": "code",
   "execution_count": 33,
   "metadata": {},
   "outputs": [
    {
     "name": "stdout",
     "output_type": "stream",
     "text": [
      "               NON_ZERO_SEGLANEKEY_COUNT  ZERO_SEGLANEKEY_COUNT\n",
      "COLLISIONTYPE                                                  \n",
      "Angles                                 9                  34665\n",
      "Cycles                              2668                   2747\n",
      "Head On                                2                   2022\n",
      "Left Turn                             14                  13689\n",
      "Other                                 19                  23684\n",
      "Parked Car                             2                  47985\n",
      "Pedestrian                             4                   6604\n",
      "Rear Ended                             4                  34086\n",
      "Right Turn                             4                   2952\n",
      "Sideswipe                              4                  18605\n"
     ]
    },
    {
     "data": {
      "image/png": "[encoded data removed]",
      "text/plain": [
       "<Figure size 432x288 with 1 Axes>"
      ]
     },
     "metadata": {
      "needs_background": "light"
     },
     "output_type": "display_data"
    }
   ],
   "source": [
    "\n",
    "# filtering out SEGLANEKEY according to non-zero and zero values, grouped by COLLISIONTYPE\n",
    "del_df1 = df[df['SEGLANEKEY'] !=0].groupby('COLLISIONTYPE').size().to_frame('NON_ZERO_SEGLANEKEY_COUNT')\n",
    "del_df2 = df[df['SEGLANEKEY'] ==0].groupby('COLLISIONTYPE').size().to_frame('ZERO_SEGLANEKEY_COUNT')\n",
    "\n",
    "# merging 2 dfs and normalising along columns\n",
    "del_df1 = pd.merge(del_df1, del_df2, on='COLLISIONTYPE')\n",
    "print(del_df1)\n",
    "del_df1 = (del_df1/del_df1.sum()).reset_index()\n",
    "\n",
    "# plot \n",
    "del_df1.plot(x='COLLISIONTYPE', kind='bar')\n",
    "plt.show()"
   ]
  },
  {
   "cell_type": "code",
   "execution_count": 34,
   "metadata": {},
   "outputs": [],
   "source": [
    "# list of features to keep\n",
    "\n",
    "features = ['STATUS','ADDRTYPE', 'SEVERITYCODE','PERSONCOUNT', 'PEDCOUNT',\n",
    "            'PEDCYLCOUNT', 'VEHCOUNT', 'INCDATE', 'INCDTTM','JUNCTIONTYPE',\n",
    "            'WEATHER', 'ROADCOND', 'LIGHTCOND', 'SEGLANEKEY','CROSSWALKKEY',\n",
    "            'HITPARKEDCAR']"
   ]
  },
  {
   "cell_type": "code",
   "execution_count": 35,
   "metadata": {},
   "outputs": [
    {
     "data": {
      "text/html": [
       "<div>\n",
       "<style scoped>\n",
       "    .dataframe tbody tr th:only-of-type {\n",
       "        vertical-align: middle;\n",
       "    }\n",
       "\n",
       "    .dataframe tbody tr th {\n",
       "        vertical-align: top;\n",
       "    }\n",
       "\n",
       "    .dataframe thead th {\n",
       "        text-align: right;\n",
       "    }\n",
       "</style>\n",
       "<table border=\"1\" class=\"dataframe\">\n",
       "  <thead>\n",
       "    <tr style=\"text-align: right;\">\n",
       "      <th></th>\n",
       "      <th>status</th>\n",
       "      <th>addrtype</th>\n",
       "      <th>severitycode</th>\n",
       "      <th>personcount</th>\n",
       "      <th>pedcount</th>\n",
       "      <th>pedcylcount</th>\n",
       "      <th>vehcount</th>\n",
       "      <th>incdate</th>\n",
       "      <th>incdttm</th>\n",
       "      <th>junctiontype</th>\n",
       "      <th>weather</th>\n",
       "      <th>roadcond</th>\n",
       "      <th>lightcond</th>\n",
       "      <th>seglanekey</th>\n",
       "      <th>crosswalkkey</th>\n",
       "      <th>hitparkedcar</th>\n",
       "    </tr>\n",
       "  </thead>\n",
       "  <tbody>\n",
       "    <tr>\n",
       "      <th>0</th>\n",
       "      <td>Matched</td>\n",
       "      <td>Intersection</td>\n",
       "      <td>2</td>\n",
       "      <td>2</td>\n",
       "      <td>0</td>\n",
       "      <td>0</td>\n",
       "      <td>2</td>\n",
       "      <td>2013/03/27 00:00:00+00</td>\n",
       "      <td>3/27/2013 2:54:00 PM</td>\n",
       "      <td>At Intersection (intersection related)</td>\n",
       "      <td>Overcast</td>\n",
       "      <td>Wet</td>\n",
       "      <td>Daylight</td>\n",
       "      <td>0</td>\n",
       "      <td>0</td>\n",
       "      <td>N</td>\n",
       "    </tr>\n",
       "    <tr>\n",
       "      <th>1</th>\n",
       "      <td>Matched</td>\n",
       "      <td>Block</td>\n",
       "      <td>1</td>\n",
       "      <td>2</td>\n",
       "      <td>0</td>\n",
       "      <td>0</td>\n",
       "      <td>2</td>\n",
       "      <td>2006/12/20 00:00:00+00</td>\n",
       "      <td>12/20/2006 6:55:00 PM</td>\n",
       "      <td>Mid-Block (not related to intersection)</td>\n",
       "      <td>Raining</td>\n",
       "      <td>Wet</td>\n",
       "      <td>Dark - Street Lights On</td>\n",
       "      <td>0</td>\n",
       "      <td>0</td>\n",
       "      <td>N</td>\n",
       "    </tr>\n",
       "    <tr>\n",
       "      <th>2</th>\n",
       "      <td>Matched</td>\n",
       "      <td>Block</td>\n",
       "      <td>1</td>\n",
       "      <td>4</td>\n",
       "      <td>0</td>\n",
       "      <td>0</td>\n",
       "      <td>3</td>\n",
       "      <td>2004/11/18 00:00:00+00</td>\n",
       "      <td>11/18/2004 10:20:00 AM</td>\n",
       "      <td>Mid-Block (not related to intersection)</td>\n",
       "      <td>Overcast</td>\n",
       "      <td>Dry</td>\n",
       "      <td>Daylight</td>\n",
       "      <td>0</td>\n",
       "      <td>0</td>\n",
       "      <td>N</td>\n",
       "    </tr>\n",
       "  </tbody>\n",
       "</table>\n",
       "</div>"
      ],
      "text/plain": [
       "    status      addrtype  severitycode  personcount  pedcount  pedcylcount  \\\n",
       "0  Matched  Intersection             2            2         0            0   \n",
       "1  Matched         Block             1            2         0            0   \n",
       "2  Matched         Block             1            4         0            0   \n",
       "\n",
       "   vehcount                 incdate                 incdttm  \\\n",
       "0         2  2013/03/27 00:00:00+00    3/27/2013 2:54:00 PM   \n",
       "1         2  2006/12/20 00:00:00+00   12/20/2006 6:55:00 PM   \n",
       "2         3  2004/11/18 00:00:00+00  11/18/2004 10:20:00 AM   \n",
       "\n",
       "                              junctiontype   weather roadcond  \\\n",
       "0   At Intersection (intersection related)  Overcast      Wet   \n",
       "1  Mid-Block (not related to intersection)   Raining      Wet   \n",
       "2  Mid-Block (not related to intersection)  Overcast      Dry   \n",
       "\n",
       "                 lightcond  seglanekey  crosswalkkey hitparkedcar  \n",
       "0                 Daylight           0             0            N  \n",
       "1  Dark - Street Lights On           0             0            N  \n",
       "2                 Daylight           0             0            N  "
      ]
     },
     "execution_count": 35,
     "metadata": {},
     "output_type": "execute_result"
    }
   ],
   "source": [
    "# create dataframe with features\n",
    "df1 = df[features]\n",
    "\n",
    "# lowercase all column header for easier manipulation\n",
    "df1.columns = df1.columns.str.lower()\n",
    "\n",
    "df1.head(3)"
   ]
  },
  {
   "cell_type": "code",
   "execution_count": 40,
   "metadata": {},
   "outputs": [
    {
     "data": {
      "image/png": "[encoded data removed]",
      "text/plain": [
       "<Figure size 432x288 with 1 Axes>"
      ]
     },
     "metadata": {
      "needs_background": "light"
     },
     "output_type": "display_data"
    }
   ],
   "source": [
    "# plot the distribution of severitycode\n",
    "data = df1['severitycode'].value_counts(normalize=True)\n",
    "data.plot(kind='bar')\n",
    "\n",
    "plt.xlabel('severitycode')\n",
    "plt.ylabel('count')\n",
    "plt.title('Severity Distribution')\n",
    "\n",
    "# add data labels corresponding to the actual counts\n",
    "for x, y in data.items():\n",
    "    plt.text(x-1.1, y, str(df1['severitycode'].value_counts()[x]))\n",
    "    \n",
    "plt.show()"
   ]
  },
  {
   "cell_type": "code",
   "execution_count": 42,
   "metadata": {},
   "outputs": [
    {
     "data": {
      "text/html": [
       "<div>\n",
       "<style scoped>\n",
       "    .dataframe tbody tr th:only-of-type {\n",
       "        vertical-align: middle;\n",
       "    }\n",
       "\n",
       "    .dataframe tbody tr th {\n",
       "        vertical-align: top;\n",
       "    }\n",
       "\n",
       "    .dataframe thead th {\n",
       "        text-align: right;\n",
       "    }\n",
       "</style>\n",
       "<table border=\"1\" class=\"dataframe\">\n",
       "  <thead>\n",
       "    <tr style=\"text-align: right;\">\n",
       "      <th></th>\n",
       "      <th>date</th>\n",
       "      <th>time</th>\n",
       "      <th>severitycode</th>\n",
       "    </tr>\n",
       "  </thead>\n",
       "  <tbody>\n",
       "    <tr>\n",
       "      <th>0</th>\n",
       "      <td>2013-03-27 00:00:00+00:00</td>\n",
       "      <td>2013-03-27 14:54:00</td>\n",
       "      <td>2</td>\n",
       "    </tr>\n",
       "    <tr>\n",
       "      <th>1</th>\n",
       "      <td>2006-12-20 00:00:00+00:00</td>\n",
       "      <td>2006-12-20 18:55:00</td>\n",
       "      <td>1</td>\n",
       "    </tr>\n",
       "    <tr>\n",
       "      <th>2</th>\n",
       "      <td>2004-11-18 00:00:00+00:00</td>\n",
       "      <td>2004-11-18 10:20:00</td>\n",
       "      <td>1</td>\n",
       "    </tr>\n",
       "    <tr>\n",
       "      <th>3</th>\n",
       "      <td>2013-03-29 00:00:00+00:00</td>\n",
       "      <td>2013-03-29 09:26:00</td>\n",
       "      <td>1</td>\n",
       "    </tr>\n",
       "    <tr>\n",
       "      <th>4</th>\n",
       "      <td>2004-01-28 00:00:00+00:00</td>\n",
       "      <td>2004-01-28 08:04:00</td>\n",
       "      <td>2</td>\n",
       "    </tr>\n",
       "  </tbody>\n",
       "</table>\n",
       "</div>"
      ],
      "text/plain": [
       "                       date                time  severitycode\n",
       "0 2013-03-27 00:00:00+00:00 2013-03-27 14:54:00             2\n",
       "1 2006-12-20 00:00:00+00:00 2006-12-20 18:55:00             1\n",
       "2 2004-11-18 00:00:00+00:00 2004-11-18 10:20:00             1\n",
       "3 2013-03-29 00:00:00+00:00 2013-03-29 09:26:00             1\n",
       "4 2004-01-28 00:00:00+00:00 2004-01-28 08:04:00             2"
      ]
     },
     "execution_count": 42,
     "metadata": {},
     "output_type": "execute_result"
    }
   ],
   "source": [
    "# create new dataframe copy consisting of severity and date columns\n",
    "df_season = df1[['date', 'time','severitycode']]\n",
    "df_season.head()"
   ]
  },
  {
   "cell_type": "code",
   "execution_count": 43,
   "metadata": {},
   "outputs": [
    {
     "data": {
      "text/plain": [
       "date\n",
       "2004-01-01 00:00:00+00:00    25\n",
       "2004-01-02 00:00:00+00:00    64\n",
       "2004-01-03 00:00:00+00:00    20\n",
       "2004-01-04 00:00:00+00:00    14\n",
       "2004-01-05 00:00:00+00:00    18\n",
       "                             ..\n",
       "2020-05-16 00:00:00+00:00     5\n",
       "2020-05-17 00:00:00+00:00     1\n",
       "2020-05-18 00:00:00+00:00     2\n",
       "2020-05-19 00:00:00+00:00     1\n",
       "2020-05-20 00:00:00+00:00     1\n",
       "Name: severitycode, Length: 5985, dtype: int64"
      ]
     },
     "execution_count": 43,
     "metadata": {},
     "output_type": "execute_result"
    }
   ],
   "source": [
    "# find number of incidences per date entry\n",
    "df_season_daily = df_season.groupby(['date'])['severitycode'].count()\n",
    "df_season_daily"
   ]
  },
  {
   "cell_type": "code",
   "execution_count": 44,
   "metadata": {},
   "outputs": [
    {
     "name": "stderr",
     "output_type": "stream",
     "text": [
      "<ipython-input-44-a73f19623cbd>:3: SettingWithCopyWarning: \n",
      "A value is trying to be set on a copy of a slice from a DataFrame.\n",
      "Try using .loc[row_indexer,col_indexer] = value instead\n",
      "\n",
      "See the caveats in the documentation: https://pandas.pydata.org/pandas-docs/stable/user_guide/indexing.html#returning-a-view-versus-a-copy\n",
      "  df_season['year'] = df_season['date'].dt.year\n"
     ]
    },
    {
     "data": {
      "image/png": "[encoded data removed]",
      "text/plain": [
       "<Figure size 432x288 with 1 Axes>"
      ]
     },
     "metadata": {
      "needs_background": "light"
     },
     "output_type": "display_data"
    }
   ],
   "source": [
    "# By year\n",
    "\n",
    "df_season['year'] = df_season['date'].dt.year\n",
    "df_season.groupby(['year'])['severitycode'].count().plot(marker='o', color='r', label='Total')\n",
    "\n",
    "plt.xlabel('Year')\n",
    "plt.ylabel('Number of incidents')\n",
    "plt.title('Incident per year')\n",
    "\n",
    "plt.show()"
   ]
  },
  {
   "cell_type": "code",
   "execution_count": 45,
   "metadata": {},
   "outputs": [
    {
     "name": "stderr",
     "output_type": "stream",
     "text": [
      "<ipython-input-45-def110079982>:4: SettingWithCopyWarning: \n",
      "A value is trying to be set on a copy of a slice from a DataFrame.\n",
      "Try using .loc[row_indexer,col_indexer] = value instead\n",
      "\n",
      "See the caveats in the documentation: https://pandas.pydata.org/pandas-docs/stable/user_guide/indexing.html#returning-a-view-versus-a-copy\n",
      "  df_season['day'] = df_season['date'].dt.dayofweek\n"
     ]
    },
    {
     "data": {
      "image/png": "[encoded data removed]",
      "text/plain": [
       "<Figure size 504x504 with 2 Axes>"
      ]
     },
     "metadata": {
      "needs_background": "light"
     },
     "output_type": "display_data"
    }
   ],
   "source": [
    "# By weekday\n",
    "\n",
    "# create weekday values\n",
    "df_season['day'] = df_season['date'].dt.dayofweek\n",
    "\n",
    "# create df_season_weekday which shows the avg incident counts taken over 2004-2020 according to the weekdays, broken down into severitycode of 1 and 0\n",
    "df_season_day = df_season.groupby(['day','severitycode'])['year'].value_counts().to_frame('counts').reset_index()\n",
    "df_season_day  = df_season_day.groupby(['day', 'severitycode'])['counts'].mean().to_frame('counts').reset_index()\n",
    "\n",
    "# create addition counts_proportion column that calculates the proportion of severity code 1 vs 0\n",
    "counts_proportion = []\n",
    "for day, total in (df_season_day.groupby(['day'])['counts'].sum()).items():\n",
    "    counts_proportion.extend((df_season_day.loc[df_season_day['day'] == day, 'counts']/total).tolist())\n",
    "df_season_day = df_season_day.assign(counts_proportion=counts_proportion)\n",
    "\n",
    "\n",
    "fig, ax1 = plt.subplots(figsize=(7,7))\n",
    "sns.barplot(data=df_season_day, x='day', y='counts', hue='severitycode', alpha=0.7, ax=ax1)\n",
    "\n",
    "ax1.set_xlabel('Weekday')\n",
    "ax1.set_ylabel('Number of Incidents')\n",
    "ax1.set_title('Average No. of Incidents Across Weekdays taken over 2004-2020')\n",
    "ax1.legend(loc='center right', title='Severity Code')\n",
    "\n",
    "\n",
    "# create axes for 2ndplot, sharing same x-axis\n",
    "ax2 = ax1.twinx()\n",
    "# plot pointplot\n",
    "sns.pointplot(data=df_season_day, x='day', y='counts_proportion', marker='o', hue='severitycode', ax=ax2)\n",
    "# chart labels\n",
    "ax2.set_ylabel('Proportion of Incidents')\n",
    "ax2.legend_.remove()\n",
    "\n",
    "plt.show()"
   ]
  },
  {
   "cell_type": "code",
   "execution_count": 46,
   "metadata": {},
   "outputs": [
    {
     "data": {
      "image/png": "[encoded data removed]",
      "text/plain": [
       "<Figure size 432x288 with 1 Axes>"
      ]
     },
     "metadata": {
      "needs_background": "light"
     },
     "output_type": "display_data"
    }
   ],
   "source": [
    "# lOCATION - by addrtype\n",
    "data = df1.groupby(['addrtype'])['severitycode'].value_counts().to_frame('counts').reset_index()\n",
    "\n",
    "sns.barplot(data=data, x='addrtype', y='counts', hue='severitycode')\n",
    "\n",
    "plt.xlabel('Addresstype')\n",
    "plt.ylabel('Incident Counts')\n",
    "plt.title('Number of Incidents vs Addrtype')\n",
    "\n",
    "plt.show()"
   ]
  },
  {
   "cell_type": "code",
   "execution_count": 47,
   "metadata": {},
   "outputs": [
    {
     "data": {
      "image/png": "[encoded data removed]",
      "text/plain": [
       "<Figure size 432x288 with 1 Axes>"
      ]
     },
     "metadata": {
      "needs_background": "light"
     },
     "output_type": "display_data"
    }
   ],
   "source": [
    "# by junctiontype\n",
    "data = df1.groupby(['junctiontype'])['severitycode'].value_counts().to_frame('counts').reset_index()\n",
    "\n",
    "sns.barplot(data=data, x='junctiontype', y='counts', hue='severitycode')\n",
    "\n",
    "plt.xticks(rotation=90)\n",
    "plt.xlabel('Junctiontype')\n",
    "plt.ylabel('Incident Counts')\n",
    "plt.title('Number of Incidents vs Junctiontype')\n",
    "\n",
    "plt.show()"
   ]
  },
  {
   "cell_type": "code",
   "execution_count": null,
   "metadata": {},
   "outputs": [],
   "source": []
  }
 ],
 "metadata": {
  "kernelspec": {
   "display_name": "Python 3",
   "language": "python",
   "name": "python3"
  },
  "language_info": {
   "codemirror_mode": {
    "name": "ipython",
    "version": 3
   },
   "file_extension": ".py",
   "mimetype": "text/x-python",
   "name": "python",
   "nbconvert_exporter": "python",
   "pygments_lexer": "ipython3",
   "version": "3.8.3"
  }
 },
 "nbformat": 4,
 "nbformat_minor": 4
}
